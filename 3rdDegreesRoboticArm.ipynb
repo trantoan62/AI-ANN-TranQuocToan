{
  "nbformat": 4,
  "nbformat_minor": 0,
  "metadata": {
    "colab": {
      "name": "3rdDegreesRoboticArm.ipynb",
      "provenance": [],
      "collapsed_sections": [],
      "authorship_tag": "ABX9TyOoHvp2d+dasbB654xlchtP",
      "include_colab_link": true
    },
    "kernelspec": {
      "name": "python3",
      "display_name": "Python 3"
    },
    "language_info": {
      "name": "python"
    },
    "accelerator": "GPU"
  },
  "cells": [
    {
      "cell_type": "markdown",
      "metadata": {
        "id": "view-in-github",
        "colab_type": "text"
      },
      "source": [
        "<a href=\"https://colab.research.google.com/github/trantoan62/AI-ANN-TranQuocToan/blob/main/3rdDegreesRoboticArm.ipynb\" target=\"_parent\"><img src=\"https://colab.research.google.com/assets/colab-badge.svg\" alt=\"Open In Colab\"/></a>"
      ]
    },
    {
      "cell_type": "code",
      "execution_count": null,
      "metadata": {
        "id": "ddQ97MkAJY9X"
      },
      "outputs": [],
      "source": [
        "#l1 = 10, l2 = 40, l3 = 20"
      ]
    },
    {
      "cell_type": "code",
      "source": [
        "# bài 5: robot 3 bậc tự do như trên + 1 bậc trên oxy, tt1, tt2, tt3 => px, py, góc phi là góc định hướng\n",
        "# px = l1.c1 + l2.c12 + l3.c123\n",
        "# px = l1.c1 + l2.c12 + l3.c123\n",
        "# phi = tt1 + tt2 + tt3"
      ],
      "metadata": {
        "id": "cn4LoTH6Ja6K"
      },
      "execution_count": null,
      "outputs": []
    },
    {
      "cell_type": "code",
      "source": [
        "import numpy as np\n",
        "import pandas as pd\n",
        "import matplotlib.pyplot as plt\n",
        "import seaborn as sns\n",
        "from sklearn.linear_model import LinearRegression"
      ],
      "metadata": {
        "id": "9BfDKiU7JbQB"
      },
      "execution_count": 1,
      "outputs": []
    },
    {
      "cell_type": "code",
      "source": [
        "from tensorflow.keras.utils import to_categorical\n",
        "from keras.models import Sequential\n",
        "from keras.layers import Dense,Activation,Dropout\n",
        "from tensorflow.keras.optimizers import RMSprop\n",
        "from keras.callbacks import EarlyStopping\n",
        "from sklearn.model_selection import train_test_split\n",
        "from tensorflow import keras"
      ],
      "metadata": {
        "id": "gy6z6vcyJbes"
      },
      "execution_count": 2,
      "outputs": []
    },
    {
      "cell_type": "code",
      "source": [
        "l1 = 10\n",
        "l2 = 40\n",
        "L3 = 20\n",
        "px = []\n",
        "py= []\n",
        "theta= []\n",
        "tt1 =[]\n",
        "tt2 =[]\n",
        "tt3 =[]"
      ],
      "metadata": {
        "id": "xNCTnho2JeEK"
      },
      "execution_count": 11,
      "outputs": []
    },
    {
      "cell_type": "code",
      "source": [
        "for i in np.arange(0, 360, 5):\n",
        "    for j in np.arange(0, 360, 5):\n",
        "      for k in np.arange(0, 360, 5):\n",
        "              x = l1*np.cos(np.radians(i)) + l2*np.cos(np.radians(i+j)) + L3*np.cos(np.radians(i+j+k))\n",
        "              y = l1*np.sin(np.radians(i)) + l2*np.sin(np.radians(i+j)) + L3*np.sin(np.radians(i+j+k))\n",
        "              tt_sum = (i+j+k)%360\n",
        "              px.append(x)\n",
        "              py.append(y)\n",
        "              theta.append(tt_sum)\n",
        "              tt1.append(i)\n",
        "              tt2.append(j)\n",
        "              tt3.append(k)"
      ],
      "metadata": {
        "id": "DaWbPvTCJvtm"
      },
      "execution_count": 12,
      "outputs": []
    },
    {
      "cell_type": "code",
      "source": [
        "Px = np.array([px])\n",
        "Py = np.array([py])\n",
        "Tt_sum = np.array([theta])\n",
        "Tt1= np.array([tt1])\n",
        "Tt2 = np.array([tt2])\n",
        "Tt3 = np.array([tt3])"
      ],
      "metadata": {
        "id": "Lxsaq8e8KrcH"
      },
      "execution_count": 14,
      "outputs": []
    },
    {
      "cell_type": "code",
      "source": [
        "Px.shape"
      ],
      "metadata": {
        "colab": {
          "base_uri": "https://localhost:8080/"
        },
        "id": "TzhcB--7M6K2",
        "outputId": "b7d971bf-178e-466f-ba61-534812552201"
      },
      "execution_count": 15,
      "outputs": [
        {
          "output_type": "execute_result",
          "data": {
            "text/plain": [
              "(1, 373248)"
            ]
          },
          "metadata": {},
          "execution_count": 15
        }
      ]
    },
    {
      "cell_type": "code",
      "source": [
        "result = np.concatenate((Tt1.T, Tt2.T, Tt3.T),axis =1)\n",
        "train = np.concatenate((Px.T, Py.T, Tt_sum.T),axis =1)\n",
        "result.shape"
      ],
      "metadata": {
        "colab": {
          "base_uri": "https://localhost:8080/"
        },
        "id": "FvG7cqyhNeoc",
        "outputId": "58f55189-4aa9-458a-a20c-575fd7cedcc4"
      },
      "execution_count": 16,
      "outputs": [
        {
          "output_type": "execute_result",
          "data": {
            "text/plain": [
              "(373248, 3)"
            ]
          },
          "metadata": {},
          "execution_count": 16
        }
      ]
    },
    {
      "cell_type": "code",
      "source": [
        "x_train = result[0:261273,:]\n",
        "y_train = train[0:261273,:]\n",
        "x_test = result[261273:373248,:]\n",
        "y_test = train[261273:373248,:]"
      ],
      "metadata": {
        "id": "cPj34y8aNpHa"
      },
      "execution_count": 17,
      "outputs": []
    },
    {
      "cell_type": "code",
      "source": [
        "model=Sequential()\n",
        "model.add(Dense(512, activation='relu', input_shape=(3,)))\n",
        "model.add(Dense(512, activation='relu'))\n",
        "model.add(Dense(3, activation='linear'))\n",
        "model.summary()"
      ],
      "metadata": {
        "colab": {
          "base_uri": "https://localhost:8080/"
        },
        "id": "wUL-XkM2OQT8",
        "outputId": "d0d36a2d-6fd3-4f7d-8b3d-1e7f37be2acb"
      },
      "execution_count": 18,
      "outputs": [
        {
          "output_type": "stream",
          "name": "stdout",
          "text": [
            "Model: \"sequential\"\n",
            "_________________________________________________________________\n",
            " Layer (type)                Output Shape              Param #   \n",
            "=================================================================\n",
            " dense (Dense)               (None, 512)               2048      \n",
            "                                                                 \n",
            " dense_1 (Dense)             (None, 512)               262656    \n",
            "                                                                 \n",
            " dense_2 (Dense)             (None, 3)                 1539      \n",
            "                                                                 \n",
            "=================================================================\n",
            "Total params: 266,243\n",
            "Trainable params: 266,243\n",
            "Non-trainable params: 0\n",
            "_________________________________________________________________\n"
          ]
        }
      ]
    },
    {
      "cell_type": "code",
      "source": [
        "model.compile(loss = ['mae'], \n",
        "              optimizer = 'Adam', \n",
        "              metrics = ['accuracy'])"
      ],
      "metadata": {
        "id": "6iF1Gop0OWOT"
      },
      "execution_count": 19,
      "outputs": []
    },
    {
      "cell_type": "code",
      "source": [
        "history = model.fit(x_train, y_train, batch_size=128, epochs=200, verbose=1, validation_data=(x_test,y_test))"
      ],
      "metadata": {
        "colab": {
          "base_uri": "https://localhost:8080/"
        },
        "id": "ydIFyqnfOZhu",
        "outputId": "5811da3e-c606-4c9e-fb1a-ec2b66fbe5ed"
      },
      "execution_count": 20,
      "outputs": [
        {
          "output_type": "stream",
          "name": "stdout",
          "text": [
            "Epoch 1/200\n",
            "2042/2042 [==============================] - 10s 4ms/step - loss: 42.8496 - accuracy: 0.8995 - val_loss: 80.0690 - val_accuracy: 0.9074\n",
            "Epoch 2/200\n",
            "2042/2042 [==============================] - 9s 4ms/step - loss: 29.5575 - accuracy: 0.9008 - val_loss: 70.7018 - val_accuracy: 0.8611\n",
            "Epoch 3/200\n",
            "2042/2042 [==============================] - 12s 6ms/step - loss: 12.3386 - accuracy: 0.9207 - val_loss: 50.4011 - val_accuracy: 0.8697\n",
            "Epoch 4/200\n",
            "2042/2042 [==============================] - 8s 4ms/step - loss: 9.4288 - accuracy: 0.9321 - val_loss: 44.9137 - val_accuracy: 0.8851\n",
            "Epoch 5/200\n",
            "2042/2042 [==============================] - 8s 4ms/step - loss: 8.3059 - accuracy: 0.9388 - val_loss: 38.4968 - val_accuracy: 0.9239\n",
            "Epoch 6/200\n",
            "2042/2042 [==============================] - 7s 4ms/step - loss: 7.6606 - accuracy: 0.9447 - val_loss: 36.9944 - val_accuracy: 0.9201\n",
            "Epoch 7/200\n",
            "2042/2042 [==============================] - 8s 4ms/step - loss: 6.6563 - accuracy: 0.9493 - val_loss: 28.4864 - val_accuracy: 0.9265\n",
            "Epoch 8/200\n",
            "2042/2042 [==============================] - 8s 4ms/step - loss: 6.3251 - accuracy: 0.9515 - val_loss: 26.9289 - val_accuracy: 0.9307\n",
            "Epoch 9/200\n",
            "2042/2042 [==============================] - 11s 5ms/step - loss: 5.9257 - accuracy: 0.9543 - val_loss: 26.1235 - val_accuracy: 0.9308\n",
            "Epoch 10/200\n",
            "2042/2042 [==============================] - 9s 4ms/step - loss: 5.8883 - accuracy: 0.9551 - val_loss: 25.0460 - val_accuracy: 0.9344\n",
            "Epoch 11/200\n",
            "2042/2042 [==============================] - 8s 4ms/step - loss: 5.8927 - accuracy: 0.9558 - val_loss: 22.2080 - val_accuracy: 0.9355\n",
            "Epoch 12/200\n",
            "2042/2042 [==============================] - 8s 4ms/step - loss: 5.4941 - accuracy: 0.9584 - val_loss: 23.0054 - val_accuracy: 0.9128\n",
            "Epoch 13/200\n",
            "2042/2042 [==============================] - 8s 4ms/step - loss: 5.5434 - accuracy: 0.9585 - val_loss: 28.8990 - val_accuracy: 0.9272\n",
            "Epoch 14/200\n",
            "2042/2042 [==============================] - 8s 4ms/step - loss: 5.6210 - accuracy: 0.9587 - val_loss: 28.0834 - val_accuracy: 0.9289\n",
            "Epoch 15/200\n",
            "2042/2042 [==============================] - 7s 3ms/step - loss: 5.2336 - accuracy: 0.9609 - val_loss: 27.6123 - val_accuracy: 0.9098\n",
            "Epoch 16/200\n",
            "2042/2042 [==============================] - 8s 4ms/step - loss: 5.3613 - accuracy: 0.9611 - val_loss: 34.3493 - val_accuracy: 0.8782\n",
            "Epoch 17/200\n",
            "2042/2042 [==============================] - 8s 4ms/step - loss: 5.1401 - accuracy: 0.9622 - val_loss: 23.6523 - val_accuracy: 0.9159\n",
            "Epoch 18/200\n",
            "2042/2042 [==============================] - 8s 4ms/step - loss: 5.2319 - accuracy: 0.9622 - val_loss: 23.0741 - val_accuracy: 0.9267\n",
            "Epoch 19/200\n",
            "2042/2042 [==============================] - 7s 3ms/step - loss: 5.1258 - accuracy: 0.9633 - val_loss: 22.7567 - val_accuracy: 0.9191\n",
            "Epoch 20/200\n",
            "2042/2042 [==============================] - 8s 4ms/step - loss: 5.0014 - accuracy: 0.9637 - val_loss: 21.1897 - val_accuracy: 0.9358\n",
            "Epoch 21/200\n",
            "2042/2042 [==============================] - 7s 3ms/step - loss: 4.7994 - accuracy: 0.9648 - val_loss: 24.6310 - val_accuracy: 0.9347\n",
            "Epoch 22/200\n",
            "2042/2042 [==============================] - 9s 4ms/step - loss: 4.6552 - accuracy: 0.9664 - val_loss: 27.9206 - val_accuracy: 0.9095\n",
            "Epoch 23/200\n",
            "2042/2042 [==============================] - 8s 4ms/step - loss: 4.8023 - accuracy: 0.9653 - val_loss: 23.6723 - val_accuracy: 0.9239\n",
            "Epoch 24/200\n",
            "2042/2042 [==============================] - 8s 4ms/step - loss: 4.7852 - accuracy: 0.9656 - val_loss: 25.0090 - val_accuracy: 0.9192\n",
            "Epoch 25/200\n",
            "2042/2042 [==============================] - 7s 3ms/step - loss: 4.5766 - accuracy: 0.9664 - val_loss: 28.2735 - val_accuracy: 0.9125\n",
            "Epoch 26/200\n",
            "2042/2042 [==============================] - 7s 3ms/step - loss: 4.6614 - accuracy: 0.9661 - val_loss: 21.7198 - val_accuracy: 0.9324\n",
            "Epoch 27/200\n",
            "2042/2042 [==============================] - 8s 4ms/step - loss: 4.6698 - accuracy: 0.9665 - val_loss: 35.4333 - val_accuracy: 0.9236\n",
            "Epoch 28/200\n",
            "2042/2042 [==============================] - 7s 3ms/step - loss: 4.5750 - accuracy: 0.9673 - val_loss: 32.1189 - val_accuracy: 0.9308\n",
            "Epoch 29/200\n",
            "2042/2042 [==============================] - 8s 4ms/step - loss: 4.4700 - accuracy: 0.9679 - val_loss: 30.9404 - val_accuracy: 0.9077\n",
            "Epoch 30/200\n",
            "2042/2042 [==============================] - 7s 3ms/step - loss: 4.5339 - accuracy: 0.9676 - val_loss: 21.8157 - val_accuracy: 0.9171\n",
            "Epoch 31/200\n",
            "2042/2042 [==============================] - 8s 4ms/step - loss: 4.5849 - accuracy: 0.9670 - val_loss: 24.2333 - val_accuracy: 0.9364\n",
            "Epoch 32/200\n",
            "2042/2042 [==============================] - 7s 3ms/step - loss: 4.5631 - accuracy: 0.9672 - val_loss: 21.7121 - val_accuracy: 0.9311\n",
            "Epoch 33/200\n",
            "2042/2042 [==============================] - 7s 3ms/step - loss: 4.5217 - accuracy: 0.9677 - val_loss: 23.0344 - val_accuracy: 0.9227\n",
            "Epoch 34/200\n",
            "2042/2042 [==============================] - 7s 3ms/step - loss: 4.3008 - accuracy: 0.9693 - val_loss: 21.2631 - val_accuracy: 0.9367\n",
            "Epoch 35/200\n",
            "2042/2042 [==============================] - 7s 3ms/step - loss: 4.5234 - accuracy: 0.9682 - val_loss: 31.1072 - val_accuracy: 0.8885\n",
            "Epoch 36/200\n",
            "2042/2042 [==============================] - 7s 3ms/step - loss: 4.5202 - accuracy: 0.9679 - val_loss: 25.3788 - val_accuracy: 0.9174\n",
            "Epoch 37/200\n",
            "2042/2042 [==============================] - 7s 3ms/step - loss: 4.4090 - accuracy: 0.9693 - val_loss: 23.1179 - val_accuracy: 0.8973\n",
            "Epoch 38/200\n",
            "2042/2042 [==============================] - 7s 3ms/step - loss: 4.2682 - accuracy: 0.9698 - val_loss: 27.8042 - val_accuracy: 0.9152\n",
            "Epoch 39/200\n",
            "2042/2042 [==============================] - 7s 3ms/step - loss: 4.2759 - accuracy: 0.9695 - val_loss: 23.1561 - val_accuracy: 0.9288\n",
            "Epoch 40/200\n",
            "2042/2042 [==============================] - 7s 3ms/step - loss: 4.1417 - accuracy: 0.9704 - val_loss: 23.0962 - val_accuracy: 0.8891\n",
            "Epoch 41/200\n",
            "2042/2042 [==============================] - 7s 3ms/step - loss: 4.5721 - accuracy: 0.9675 - val_loss: 22.9777 - val_accuracy: 0.9370\n",
            "Epoch 42/200\n",
            "2042/2042 [==============================] - 8s 4ms/step - loss: 4.2947 - accuracy: 0.9694 - val_loss: 23.4682 - val_accuracy: 0.9062\n",
            "Epoch 43/200\n",
            "2042/2042 [==============================] - 8s 4ms/step - loss: 4.2388 - accuracy: 0.9700 - val_loss: 26.4882 - val_accuracy: 0.8998\n",
            "Epoch 44/200\n",
            "2042/2042 [==============================] - 7s 4ms/step - loss: 4.0765 - accuracy: 0.9712 - val_loss: 20.4255 - val_accuracy: 0.9351\n",
            "Epoch 45/200\n",
            "2042/2042 [==============================] - 8s 4ms/step - loss: 4.3301 - accuracy: 0.9691 - val_loss: 28.7182 - val_accuracy: 0.9197\n",
            "Epoch 46/200\n",
            "2042/2042 [==============================] - 7s 4ms/step - loss: 4.1262 - accuracy: 0.9708 - val_loss: 23.8191 - val_accuracy: 0.9186\n",
            "Epoch 47/200\n",
            "2042/2042 [==============================] - 9s 4ms/step - loss: 3.9774 - accuracy: 0.9715 - val_loss: 27.1478 - val_accuracy: 0.9254\n",
            "Epoch 48/200\n",
            "2042/2042 [==============================] - 7s 3ms/step - loss: 4.1149 - accuracy: 0.9709 - val_loss: 22.5500 - val_accuracy: 0.9216\n",
            "Epoch 49/200\n",
            "2042/2042 [==============================] - 8s 4ms/step - loss: 4.2378 - accuracy: 0.9703 - val_loss: 19.0052 - val_accuracy: 0.9183\n",
            "Epoch 50/200\n",
            "2042/2042 [==============================] - 7s 3ms/step - loss: 4.0801 - accuracy: 0.9710 - val_loss: 27.5609 - val_accuracy: 0.9196\n",
            "Epoch 51/200\n",
            "2042/2042 [==============================] - 7s 3ms/step - loss: 3.9005 - accuracy: 0.9718 - val_loss: 28.9422 - val_accuracy: 0.9078\n",
            "Epoch 52/200\n",
            "2042/2042 [==============================] - 7s 3ms/step - loss: 4.2239 - accuracy: 0.9699 - val_loss: 29.6764 - val_accuracy: 0.8803\n",
            "Epoch 53/200\n",
            "2042/2042 [==============================] - 8s 4ms/step - loss: 3.9163 - accuracy: 0.9714 - val_loss: 21.2943 - val_accuracy: 0.9369\n",
            "Epoch 54/200\n",
            "2042/2042 [==============================] - 7s 3ms/step - loss: 3.9507 - accuracy: 0.9723 - val_loss: 25.7521 - val_accuracy: 0.8987\n",
            "Epoch 55/200\n",
            "2042/2042 [==============================] - 7s 3ms/step - loss: 4.1203 - accuracy: 0.9708 - val_loss: 29.7865 - val_accuracy: 0.9281\n",
            "Epoch 56/200\n",
            "2042/2042 [==============================] - 8s 4ms/step - loss: 4.0027 - accuracy: 0.9715 - val_loss: 25.5469 - val_accuracy: 0.9314\n",
            "Epoch 57/200\n",
            "2042/2042 [==============================] - 7s 3ms/step - loss: 3.7208 - accuracy: 0.9734 - val_loss: 28.4831 - val_accuracy: 0.9242\n",
            "Epoch 58/200\n",
            "2042/2042 [==============================] - 8s 4ms/step - loss: 3.7724 - accuracy: 0.9731 - val_loss: 26.6359 - val_accuracy: 0.9269\n",
            "Epoch 59/200\n",
            "2042/2042 [==============================] - 8s 4ms/step - loss: 4.0934 - accuracy: 0.9712 - val_loss: 21.0285 - val_accuracy: 0.9328\n",
            "Epoch 60/200\n",
            "2042/2042 [==============================] - 7s 3ms/step - loss: 3.9386 - accuracy: 0.9720 - val_loss: 24.7358 - val_accuracy: 0.9191\n",
            "Epoch 61/200\n",
            "2042/2042 [==============================] - 7s 3ms/step - loss: 3.7329 - accuracy: 0.9729 - val_loss: 19.9220 - val_accuracy: 0.9233\n",
            "Epoch 62/200\n",
            "2042/2042 [==============================] - 7s 3ms/step - loss: 3.9745 - accuracy: 0.9717 - val_loss: 21.1303 - val_accuracy: 0.8871\n",
            "Epoch 63/200\n",
            "2042/2042 [==============================] - 7s 3ms/step - loss: 4.1355 - accuracy: 0.9711 - val_loss: 30.9216 - val_accuracy: 0.9269\n",
            "Epoch 64/200\n",
            "2042/2042 [==============================] - 7s 3ms/step - loss: 3.9522 - accuracy: 0.9722 - val_loss: 26.9407 - val_accuracy: 0.8636\n",
            "Epoch 65/200\n",
            "2042/2042 [==============================] - 7s 3ms/step - loss: 4.0151 - accuracy: 0.9718 - val_loss: 20.6362 - val_accuracy: 0.9245\n",
            "Epoch 66/200\n",
            "2042/2042 [==============================] - 8s 4ms/step - loss: 3.7214 - accuracy: 0.9733 - val_loss: 24.4137 - val_accuracy: 0.9192\n",
            "Epoch 67/200\n",
            "2042/2042 [==============================] - 7s 3ms/step - loss: 3.7751 - accuracy: 0.9727 - val_loss: 18.5064 - val_accuracy: 0.9232\n",
            "Epoch 68/200\n",
            "2042/2042 [==============================] - 7s 3ms/step - loss: 3.8779 - accuracy: 0.9728 - val_loss: 28.2438 - val_accuracy: 0.9206\n",
            "Epoch 69/200\n",
            "2042/2042 [==============================] - 8s 4ms/step - loss: 3.8506 - accuracy: 0.9726 - val_loss: 19.7496 - val_accuracy: 0.9203\n",
            "Epoch 70/200\n",
            "2042/2042 [==============================] - 8s 4ms/step - loss: 3.7424 - accuracy: 0.9735 - val_loss: 20.7207 - val_accuracy: 0.9314\n",
            "Epoch 71/200\n",
            "2042/2042 [==============================] - 7s 3ms/step - loss: 3.8526 - accuracy: 0.9725 - val_loss: 19.0175 - val_accuracy: 0.9192\n",
            "Epoch 72/200\n",
            "2042/2042 [==============================] - 7s 3ms/step - loss: 3.6791 - accuracy: 0.9739 - val_loss: 19.2633 - val_accuracy: 0.9072\n",
            "Epoch 73/200\n",
            "2042/2042 [==============================] - 8s 4ms/step - loss: 3.6909 - accuracy: 0.9737 - val_loss: 17.8952 - val_accuracy: 0.9088\n",
            "Epoch 74/200\n",
            "2042/2042 [==============================] - 7s 3ms/step - loss: 3.7353 - accuracy: 0.9731 - val_loss: 23.4787 - val_accuracy: 0.8988\n",
            "Epoch 75/200\n",
            "2042/2042 [==============================] - 8s 4ms/step - loss: 3.7209 - accuracy: 0.9739 - val_loss: 19.3901 - val_accuracy: 0.8820\n",
            "Epoch 76/200\n",
            "2042/2042 [==============================] - 8s 4ms/step - loss: 3.6081 - accuracy: 0.9746 - val_loss: 21.2213 - val_accuracy: 0.9317\n",
            "Epoch 77/200\n",
            "2042/2042 [==============================] - 7s 3ms/step - loss: 3.5171 - accuracy: 0.9747 - val_loss: 15.7667 - val_accuracy: 0.9091\n",
            "Epoch 78/200\n",
            "2042/2042 [==============================] - 7s 3ms/step - loss: 3.6471 - accuracy: 0.9740 - val_loss: 29.8436 - val_accuracy: 0.9103\n",
            "Epoch 79/200\n",
            "2042/2042 [==============================] - 7s 3ms/step - loss: 3.6537 - accuracy: 0.9745 - val_loss: 21.8918 - val_accuracy: 0.9328\n",
            "Epoch 80/200\n",
            "2042/2042 [==============================] - 8s 4ms/step - loss: 3.7052 - accuracy: 0.9738 - val_loss: 17.4423 - val_accuracy: 0.9138\n",
            "Epoch 81/200\n",
            "2042/2042 [==============================] - 8s 4ms/step - loss: 3.7649 - accuracy: 0.9734 - val_loss: 17.1041 - val_accuracy: 0.9118\n",
            "Epoch 82/200\n",
            "2042/2042 [==============================] - 7s 3ms/step - loss: 3.7271 - accuracy: 0.9737 - val_loss: 22.1618 - val_accuracy: 0.8683\n",
            "Epoch 83/200\n",
            "2042/2042 [==============================] - 8s 4ms/step - loss: 3.7700 - accuracy: 0.9735 - val_loss: 18.3091 - val_accuracy: 0.9021\n",
            "Epoch 84/200\n",
            "2042/2042 [==============================] - 8s 4ms/step - loss: 3.6427 - accuracy: 0.9746 - val_loss: 16.1367 - val_accuracy: 0.9219\n",
            "Epoch 85/200\n",
            "2042/2042 [==============================] - 7s 3ms/step - loss: 3.5675 - accuracy: 0.9744 - val_loss: 19.1678 - val_accuracy: 0.8536\n",
            "Epoch 86/200\n",
            "2042/2042 [==============================] - 8s 4ms/step - loss: 3.4487 - accuracy: 0.9754 - val_loss: 23.5768 - val_accuracy: 0.8841\n",
            "Epoch 87/200\n",
            "2042/2042 [==============================] - 8s 4ms/step - loss: 3.4102 - accuracy: 0.9755 - val_loss: 20.7849 - val_accuracy: 0.9056\n",
            "Epoch 88/200\n",
            "2042/2042 [==============================] - 7s 3ms/step - loss: 3.3960 - accuracy: 0.9756 - val_loss: 15.8965 - val_accuracy: 0.9038\n",
            "Epoch 89/200\n",
            "2042/2042 [==============================] - 7s 3ms/step - loss: 3.5210 - accuracy: 0.9753 - val_loss: 16.8249 - val_accuracy: 0.8978\n",
            "Epoch 90/200\n",
            "2042/2042 [==============================] - 7s 3ms/step - loss: 3.5032 - accuracy: 0.9750 - val_loss: 15.2206 - val_accuracy: 0.9217\n",
            "Epoch 91/200\n",
            "2042/2042 [==============================] - 7s 3ms/step - loss: 3.6005 - accuracy: 0.9747 - val_loss: 21.8683 - val_accuracy: 0.9056\n",
            "Epoch 92/200\n",
            "2042/2042 [==============================] - 8s 4ms/step - loss: 3.5601 - accuracy: 0.9749 - val_loss: 16.7583 - val_accuracy: 0.9083\n",
            "Epoch 93/200\n",
            "2042/2042 [==============================] - 7s 3ms/step - loss: 3.7148 - accuracy: 0.9735 - val_loss: 18.8158 - val_accuracy: 0.9128\n",
            "Epoch 94/200\n",
            "2042/2042 [==============================] - 7s 3ms/step - loss: 3.5223 - accuracy: 0.9749 - val_loss: 17.2909 - val_accuracy: 0.9160\n",
            "Epoch 95/200\n",
            "2042/2042 [==============================] - 8s 4ms/step - loss: 3.4675 - accuracy: 0.9752 - val_loss: 15.2775 - val_accuracy: 0.9161\n",
            "Epoch 96/200\n",
            "2042/2042 [==============================] - 8s 4ms/step - loss: 3.4828 - accuracy: 0.9753 - val_loss: 24.8542 - val_accuracy: 0.8934\n",
            "Epoch 97/200\n",
            "2042/2042 [==============================] - 7s 3ms/step - loss: 3.4789 - accuracy: 0.9751 - val_loss: 15.3807 - val_accuracy: 0.9180\n",
            "Epoch 98/200\n",
            "2042/2042 [==============================] - 8s 4ms/step - loss: 3.5062 - accuracy: 0.9753 - val_loss: 15.5877 - val_accuracy: 0.9263\n",
            "Epoch 99/200\n",
            "2042/2042 [==============================] - 8s 4ms/step - loss: 3.3462 - accuracy: 0.9760 - val_loss: 19.3588 - val_accuracy: 0.9224\n",
            "Epoch 100/200\n",
            "2042/2042 [==============================] - 7s 3ms/step - loss: 3.5313 - accuracy: 0.9750 - val_loss: 19.1957 - val_accuracy: 0.8996\n",
            "Epoch 101/200\n",
            "2042/2042 [==============================] - 7s 3ms/step - loss: 3.4560 - accuracy: 0.9757 - val_loss: 16.8066 - val_accuracy: 0.9344\n",
            "Epoch 102/200\n",
            "2042/2042 [==============================] - 8s 4ms/step - loss: 3.6936 - accuracy: 0.9744 - val_loss: 14.8134 - val_accuracy: 0.9214\n",
            "Epoch 103/200\n",
            "2042/2042 [==============================] - 8s 4ms/step - loss: 3.3611 - accuracy: 0.9759 - val_loss: 16.0005 - val_accuracy: 0.9130\n",
            "Epoch 104/200\n",
            "2042/2042 [==============================] - 8s 4ms/step - loss: 3.3204 - accuracy: 0.9763 - val_loss: 29.4916 - val_accuracy: 0.8943\n",
            "Epoch 105/200\n",
            "2042/2042 [==============================] - 7s 3ms/step - loss: 3.5089 - accuracy: 0.9755 - val_loss: 18.5397 - val_accuracy: 0.9255\n",
            "Epoch 106/200\n",
            "2042/2042 [==============================] - 8s 4ms/step - loss: 3.2515 - accuracy: 0.9766 - val_loss: 16.2217 - val_accuracy: 0.9168\n",
            "Epoch 107/200\n",
            "2042/2042 [==============================] - 7s 3ms/step - loss: 3.3797 - accuracy: 0.9762 - val_loss: 22.4236 - val_accuracy: 0.9004\n",
            "Epoch 108/200\n",
            "2042/2042 [==============================] - 7s 3ms/step - loss: 3.4353 - accuracy: 0.9757 - val_loss: 17.0400 - val_accuracy: 0.9029\n",
            "Epoch 109/200\n",
            "2042/2042 [==============================] - 8s 4ms/step - loss: 3.3347 - accuracy: 0.9759 - val_loss: 21.4645 - val_accuracy: 0.8829\n",
            "Epoch 110/200\n",
            "2042/2042 [==============================] - 7s 3ms/step - loss: 3.4827 - accuracy: 0.9757 - val_loss: 18.7956 - val_accuracy: 0.9232\n",
            "Epoch 111/200\n",
            "2042/2042 [==============================] - 8s 4ms/step - loss: 3.2739 - accuracy: 0.9767 - val_loss: 11.3522 - val_accuracy: 0.9321\n",
            "Epoch 112/200\n",
            "2042/2042 [==============================] - 7s 3ms/step - loss: 3.3675 - accuracy: 0.9763 - val_loss: 21.8035 - val_accuracy: 0.8897\n",
            "Epoch 113/200\n",
            "2042/2042 [==============================] - 8s 4ms/step - loss: 3.3361 - accuracy: 0.9761 - val_loss: 16.7750 - val_accuracy: 0.9061\n",
            "Epoch 114/200\n",
            "2042/2042 [==============================] - 7s 3ms/step - loss: 3.3454 - accuracy: 0.9760 - val_loss: 15.5799 - val_accuracy: 0.9106\n",
            "Epoch 115/200\n",
            "2042/2042 [==============================] - 8s 4ms/step - loss: 3.2898 - accuracy: 0.9766 - val_loss: 22.2240 - val_accuracy: 0.9034\n",
            "Epoch 116/200\n",
            "2042/2042 [==============================] - 8s 4ms/step - loss: 3.2046 - accuracy: 0.9769 - val_loss: 26.1802 - val_accuracy: 0.8797\n",
            "Epoch 117/200\n",
            "2042/2042 [==============================] - 7s 3ms/step - loss: 3.1852 - accuracy: 0.9775 - val_loss: 25.8990 - val_accuracy: 0.8996\n",
            "Epoch 118/200\n",
            "2042/2042 [==============================] - 8s 4ms/step - loss: 3.3774 - accuracy: 0.9764 - val_loss: 14.8305 - val_accuracy: 0.9084\n",
            "Epoch 119/200\n",
            "2042/2042 [==============================] - 7s 3ms/step - loss: 3.3386 - accuracy: 0.9763 - val_loss: 17.5233 - val_accuracy: 0.9339\n",
            "Epoch 120/200\n",
            "2042/2042 [==============================] - 7s 3ms/step - loss: 3.1801 - accuracy: 0.9772 - val_loss: 15.6582 - val_accuracy: 0.9197\n",
            "Epoch 121/200\n",
            "2042/2042 [==============================] - 8s 4ms/step - loss: 3.0878 - accuracy: 0.9777 - val_loss: 11.3017 - val_accuracy: 0.9290\n",
            "Epoch 122/200\n",
            "2042/2042 [==============================] - 7s 3ms/step - loss: 3.3521 - accuracy: 0.9764 - val_loss: 19.2232 - val_accuracy: 0.8623\n",
            "Epoch 123/200\n",
            "2042/2042 [==============================] - 7s 3ms/step - loss: 3.2171 - accuracy: 0.9771 - val_loss: 18.8559 - val_accuracy: 0.9199\n",
            "Epoch 124/200\n",
            "2042/2042 [==============================] - 7s 3ms/step - loss: 3.1540 - accuracy: 0.9776 - val_loss: 14.6789 - val_accuracy: 0.8854\n",
            "Epoch 125/200\n",
            "2042/2042 [==============================] - 7s 3ms/step - loss: 3.2526 - accuracy: 0.9777 - val_loss: 16.4540 - val_accuracy: 0.9000\n",
            "Epoch 126/200\n",
            "2042/2042 [==============================] - 8s 4ms/step - loss: 3.4649 - accuracy: 0.9753 - val_loss: 21.5214 - val_accuracy: 0.9025\n",
            "Epoch 127/200\n",
            "2042/2042 [==============================] - 8s 4ms/step - loss: 3.3489 - accuracy: 0.9767 - val_loss: 14.9502 - val_accuracy: 0.9165\n",
            "Epoch 128/200\n",
            "2042/2042 [==============================] - 8s 4ms/step - loss: 3.2934 - accuracy: 0.9765 - val_loss: 22.9578 - val_accuracy: 0.8920\n",
            "Epoch 129/200\n",
            "2042/2042 [==============================] - 8s 4ms/step - loss: 3.1252 - accuracy: 0.9777 - val_loss: 17.3122 - val_accuracy: 0.9171\n",
            "Epoch 130/200\n",
            "2042/2042 [==============================] - 8s 4ms/step - loss: 3.4763 - accuracy: 0.9760 - val_loss: 24.4081 - val_accuracy: 0.8826\n",
            "Epoch 131/200\n",
            "2042/2042 [==============================] - 7s 3ms/step - loss: 3.2967 - accuracy: 0.9768 - val_loss: 17.8115 - val_accuracy: 0.9117\n",
            "Epoch 132/200\n",
            "2042/2042 [==============================] - 7s 3ms/step - loss: 3.1292 - accuracy: 0.9776 - val_loss: 23.6070 - val_accuracy: 0.8747\n",
            "Epoch 133/200\n",
            "2042/2042 [==============================] - 7s 3ms/step - loss: 3.1219 - accuracy: 0.9776 - val_loss: 16.4248 - val_accuracy: 0.9030\n",
            "Epoch 134/200\n",
            "2042/2042 [==============================] - 8s 4ms/step - loss: 3.1580 - accuracy: 0.9774 - val_loss: 12.4420 - val_accuracy: 0.9314\n",
            "Epoch 135/200\n",
            "2042/2042 [==============================] - 8s 4ms/step - loss: 3.1688 - accuracy: 0.9775 - val_loss: 17.4959 - val_accuracy: 0.9178\n",
            "Epoch 136/200\n",
            "2042/2042 [==============================] - 8s 4ms/step - loss: 3.2150 - accuracy: 0.9771 - val_loss: 24.4549 - val_accuracy: 0.9237\n",
            "Epoch 137/200\n",
            "2042/2042 [==============================] - 7s 3ms/step - loss: 3.3474 - accuracy: 0.9767 - val_loss: 19.5757 - val_accuracy: 0.8804\n",
            "Epoch 138/200\n",
            "2042/2042 [==============================] - 8s 4ms/step - loss: 2.9133 - accuracy: 0.9787 - val_loss: 18.3868 - val_accuracy: 0.9133\n",
            "Epoch 139/200\n",
            "2042/2042 [==============================] - 8s 4ms/step - loss: 3.1330 - accuracy: 0.9776 - val_loss: 10.3187 - val_accuracy: 0.9543\n",
            "Epoch 140/200\n",
            "2042/2042 [==============================] - 8s 4ms/step - loss: 3.1705 - accuracy: 0.9774 - val_loss: 20.6485 - val_accuracy: 0.8981\n",
            "Epoch 141/200\n",
            "2042/2042 [==============================] - 7s 3ms/step - loss: 3.3264 - accuracy: 0.9764 - val_loss: 21.1813 - val_accuracy: 0.9015\n",
            "Epoch 142/200\n",
            "2042/2042 [==============================] - 7s 4ms/step - loss: 2.8596 - accuracy: 0.9791 - val_loss: 16.7188 - val_accuracy: 0.9319\n",
            "Epoch 143/200\n",
            "2042/2042 [==============================] - 7s 3ms/step - loss: 3.0956 - accuracy: 0.9782 - val_loss: 13.3901 - val_accuracy: 0.9243\n",
            "Epoch 144/200\n",
            "2042/2042 [==============================] - 7s 3ms/step - loss: 3.3181 - accuracy: 0.9767 - val_loss: 20.2261 - val_accuracy: 0.8858\n",
            "Epoch 145/200\n",
            "2042/2042 [==============================] - 8s 4ms/step - loss: 3.0709 - accuracy: 0.9779 - val_loss: 17.2983 - val_accuracy: 0.9246\n",
            "Epoch 146/200\n",
            "2042/2042 [==============================] - 8s 4ms/step - loss: 3.1866 - accuracy: 0.9775 - val_loss: 20.0778 - val_accuracy: 0.9236\n",
            "Epoch 147/200\n",
            "2042/2042 [==============================] - 7s 3ms/step - loss: 3.1478 - accuracy: 0.9776 - val_loss: 19.1309 - val_accuracy: 0.8981\n",
            "Epoch 148/200\n",
            "2042/2042 [==============================] - 7s 4ms/step - loss: 3.1087 - accuracy: 0.9778 - val_loss: 18.8329 - val_accuracy: 0.9030\n",
            "Epoch 149/200\n",
            "2042/2042 [==============================] - 7s 4ms/step - loss: 3.0192 - accuracy: 0.9779 - val_loss: 16.9537 - val_accuracy: 0.9129\n",
            "Epoch 150/200\n",
            "2042/2042 [==============================] - 7s 4ms/step - loss: 3.2026 - accuracy: 0.9776 - val_loss: 14.3769 - val_accuracy: 0.9284\n",
            "Epoch 151/200\n",
            "2042/2042 [==============================] - 8s 4ms/step - loss: 2.9912 - accuracy: 0.9787 - val_loss: 15.5256 - val_accuracy: 0.9270\n",
            "Epoch 152/200\n",
            "2042/2042 [==============================] - 8s 4ms/step - loss: 3.1190 - accuracy: 0.9773 - val_loss: 17.6750 - val_accuracy: 0.9069\n",
            "Epoch 153/200\n",
            "2042/2042 [==============================] - 7s 3ms/step - loss: 3.1924 - accuracy: 0.9775 - val_loss: 16.5539 - val_accuracy: 0.9351\n",
            "Epoch 154/200\n",
            "2042/2042 [==============================] - 7s 3ms/step - loss: 2.9311 - accuracy: 0.9791 - val_loss: 19.2231 - val_accuracy: 0.9151\n",
            "Epoch 155/200\n",
            "2042/2042 [==============================] - 7s 3ms/step - loss: 3.1338 - accuracy: 0.9780 - val_loss: 13.6441 - val_accuracy: 0.9236\n",
            "Epoch 156/200\n",
            "2042/2042 [==============================] - 7s 3ms/step - loss: 3.1351 - accuracy: 0.9775 - val_loss: 18.7380 - val_accuracy: 0.9073\n",
            "Epoch 157/200\n",
            "2042/2042 [==============================] - 8s 4ms/step - loss: 3.0450 - accuracy: 0.9783 - val_loss: 16.7474 - val_accuracy: 0.9262\n",
            "Epoch 158/200\n",
            "2042/2042 [==============================] - 7s 3ms/step - loss: 3.2257 - accuracy: 0.9770 - val_loss: 12.8105 - val_accuracy: 0.9341\n",
            "Epoch 159/200\n",
            "2042/2042 [==============================] - 7s 3ms/step - loss: 3.1349 - accuracy: 0.9774 - val_loss: 16.8314 - val_accuracy: 0.9187\n",
            "Epoch 160/200\n",
            "2042/2042 [==============================] - 7s 3ms/step - loss: 3.2138 - accuracy: 0.9772 - val_loss: 17.0497 - val_accuracy: 0.9362\n",
            "Epoch 161/200\n",
            "2042/2042 [==============================] - 7s 3ms/step - loss: 3.0731 - accuracy: 0.9785 - val_loss: 18.2505 - val_accuracy: 0.9142\n",
            "Epoch 162/200\n",
            "2042/2042 [==============================] - 7s 3ms/step - loss: 3.0069 - accuracy: 0.9783 - val_loss: 13.5703 - val_accuracy: 0.9269\n",
            "Epoch 163/200\n",
            "2042/2042 [==============================] - 7s 3ms/step - loss: 2.9837 - accuracy: 0.9788 - val_loss: 20.5140 - val_accuracy: 0.9139\n",
            "Epoch 164/200\n",
            "2042/2042 [==============================] - 7s 3ms/step - loss: 3.0938 - accuracy: 0.9785 - val_loss: 14.7448 - val_accuracy: 0.9337\n",
            "Epoch 165/200\n",
            "2042/2042 [==============================] - 7s 3ms/step - loss: 2.9278 - accuracy: 0.9789 - val_loss: 22.0641 - val_accuracy: 0.8786\n",
            "Epoch 166/200\n",
            "2042/2042 [==============================] - 7s 3ms/step - loss: 2.8126 - accuracy: 0.9798 - val_loss: 17.0471 - val_accuracy: 0.9284\n",
            "Epoch 167/200\n",
            "2042/2042 [==============================] - 7s 3ms/step - loss: 3.1912 - accuracy: 0.9776 - val_loss: 21.8900 - val_accuracy: 0.9116\n",
            "Epoch 168/200\n",
            "2042/2042 [==============================] - 7s 3ms/step - loss: 3.1348 - accuracy: 0.9781 - val_loss: 24.8388 - val_accuracy: 0.8921\n",
            "Epoch 169/200\n",
            "2042/2042 [==============================] - 7s 3ms/step - loss: 2.8344 - accuracy: 0.9797 - val_loss: 15.0939 - val_accuracy: 0.9111\n",
            "Epoch 170/200\n",
            "2042/2042 [==============================] - 7s 3ms/step - loss: 3.0472 - accuracy: 0.9785 - val_loss: 19.0083 - val_accuracy: 0.9212\n",
            "Epoch 171/200\n",
            "2042/2042 [==============================] - 7s 3ms/step - loss: 2.9236 - accuracy: 0.9793 - val_loss: 14.4640 - val_accuracy: 0.9423\n",
            "Epoch 172/200\n",
            "2042/2042 [==============================] - 7s 3ms/step - loss: 2.9890 - accuracy: 0.9789 - val_loss: 16.1532 - val_accuracy: 0.9323\n",
            "Epoch 173/200\n",
            "2042/2042 [==============================] - 8s 4ms/step - loss: 2.9570 - accuracy: 0.9790 - val_loss: 24.9192 - val_accuracy: 0.8952\n",
            "Epoch 174/200\n",
            "2042/2042 [==============================] - 8s 4ms/step - loss: 3.0522 - accuracy: 0.9785 - val_loss: 28.9198 - val_accuracy: 0.8947\n",
            "Epoch 175/200\n",
            "2042/2042 [==============================] - 7s 3ms/step - loss: 3.0792 - accuracy: 0.9783 - val_loss: 17.0923 - val_accuracy: 0.9348\n",
            "Epoch 176/200\n",
            "2042/2042 [==============================] - 8s 4ms/step - loss: 2.9043 - accuracy: 0.9790 - val_loss: 17.5916 - val_accuracy: 0.9310\n",
            "Epoch 177/200\n",
            "2042/2042 [==============================] - 8s 4ms/step - loss: 2.8429 - accuracy: 0.9798 - val_loss: 11.6291 - val_accuracy: 0.9490\n",
            "Epoch 178/200\n",
            "2042/2042 [==============================] - 8s 4ms/step - loss: 3.2262 - accuracy: 0.9775 - val_loss: 17.8228 - val_accuracy: 0.9261\n",
            "Epoch 179/200\n",
            "2042/2042 [==============================] - 8s 4ms/step - loss: 2.8780 - accuracy: 0.9797 - val_loss: 13.9473 - val_accuracy: 0.9333\n",
            "Epoch 180/200\n",
            "2042/2042 [==============================] - 8s 4ms/step - loss: 2.8540 - accuracy: 0.9795 - val_loss: 11.5130 - val_accuracy: 0.9512\n",
            "Epoch 181/200\n",
            "2042/2042 [==============================] - 8s 4ms/step - loss: 2.9111 - accuracy: 0.9793 - val_loss: 20.8389 - val_accuracy: 0.9184\n",
            "Epoch 182/200\n",
            "2042/2042 [==============================] - 7s 3ms/step - loss: 2.9236 - accuracy: 0.9790 - val_loss: 23.4230 - val_accuracy: 0.9139\n",
            "Epoch 183/200\n",
            "2042/2042 [==============================] - 7s 3ms/step - loss: 3.0279 - accuracy: 0.9785 - val_loss: 19.5488 - val_accuracy: 0.9236\n",
            "Epoch 184/200\n",
            "2042/2042 [==============================] - 8s 4ms/step - loss: 3.0483 - accuracy: 0.9787 - val_loss: 15.8371 - val_accuracy: 0.9379\n",
            "Epoch 185/200\n",
            "2042/2042 [==============================] - 8s 4ms/step - loss: 3.0597 - accuracy: 0.9790 - val_loss: 16.3702 - val_accuracy: 0.9268\n",
            "Epoch 186/200\n",
            "2042/2042 [==============================] - 7s 4ms/step - loss: 2.9071 - accuracy: 0.9791 - val_loss: 21.9173 - val_accuracy: 0.9201\n",
            "Epoch 187/200\n",
            "2042/2042 [==============================] - 8s 4ms/step - loss: 2.7196 - accuracy: 0.9805 - val_loss: 18.1217 - val_accuracy: 0.9291\n",
            "Epoch 188/200\n",
            "2042/2042 [==============================] - 8s 4ms/step - loss: 2.9837 - accuracy: 0.9790 - val_loss: 20.9859 - val_accuracy: 0.9136\n",
            "Epoch 189/200\n",
            "2042/2042 [==============================] - 7s 3ms/step - loss: 2.9863 - accuracy: 0.9791 - val_loss: 14.2383 - val_accuracy: 0.9463\n",
            "Epoch 190/200\n",
            "2042/2042 [==============================] - 7s 3ms/step - loss: 2.8454 - accuracy: 0.9798 - val_loss: 22.1200 - val_accuracy: 0.9274\n",
            "Epoch 191/200\n",
            "2042/2042 [==============================] - 7s 3ms/step - loss: 3.0650 - accuracy: 0.9786 - val_loss: 15.0856 - val_accuracy: 0.9408\n",
            "Epoch 192/200\n",
            "2042/2042 [==============================] - 7s 3ms/step - loss: 2.8393 - accuracy: 0.9798 - val_loss: 10.7795 - val_accuracy: 0.9580\n",
            "Epoch 193/200\n",
            "2042/2042 [==============================] - 8s 4ms/step - loss: 2.8612 - accuracy: 0.9800 - val_loss: 15.4261 - val_accuracy: 0.9281\n",
            "Epoch 194/200\n",
            "2042/2042 [==============================] - 8s 4ms/step - loss: 2.8898 - accuracy: 0.9796 - val_loss: 11.3794 - val_accuracy: 0.9493\n",
            "Epoch 195/200\n",
            "2042/2042 [==============================] - 8s 4ms/step - loss: 2.8210 - accuracy: 0.9796 - val_loss: 22.6267 - val_accuracy: 0.9307\n",
            "Epoch 196/200\n",
            "2042/2042 [==============================] - 7s 3ms/step - loss: 2.9239 - accuracy: 0.9793 - val_loss: 15.9439 - val_accuracy: 0.9387\n",
            "Epoch 197/200\n",
            "2042/2042 [==============================] - 8s 4ms/step - loss: 2.8509 - accuracy: 0.9796 - val_loss: 16.4473 - val_accuracy: 0.9406\n",
            "Epoch 198/200\n",
            "2042/2042 [==============================] - 8s 4ms/step - loss: 2.8763 - accuracy: 0.9799 - val_loss: 15.3282 - val_accuracy: 0.9369\n",
            "Epoch 199/200\n",
            "2042/2042 [==============================] - 7s 3ms/step - loss: 2.9756 - accuracy: 0.9793 - val_loss: 14.1664 - val_accuracy: 0.9423\n",
            "Epoch 200/200\n",
            "2042/2042 [==============================] - 7s 3ms/step - loss: 2.9645 - accuracy: 0.9793 - val_loss: 18.1878 - val_accuracy: 0.9365\n"
          ]
        }
      ]
    },
    {
      "cell_type": "code",
      "source": [
        "Score = model.evaluate(x_test,y_test,verbose = 1)"
      ],
      "metadata": {
        "colab": {
          "base_uri": "https://localhost:8080/"
        },
        "id": "gP3lu9WOOefV",
        "outputId": "a7cf6dd3-9d6c-4bbb-ad46-782373404deb"
      },
      "execution_count": 21,
      "outputs": [
        {
          "output_type": "stream",
          "name": "stdout",
          "text": [
            "3500/3500 [==============================] - 9s 3ms/step - loss: 18.1878 - accuracy: 0.9365\n"
          ]
        }
      ]
    },
    {
      "cell_type": "code",
      "source": [
        "plt.plot(history.history['accuracy'])\n",
        "plt.plot(history.history['val_accuracy'])\n",
        "plt.title('Model accuracy')\n",
        "plt.ylabel('accuracy')\n",
        "plt.xlabel('epoch')\n",
        "plt.legend(['Train','Validation'], loc ='center right')\n",
        "plt.show()"
      ],
      "metadata": {
        "colab": {
          "base_uri": "https://localhost:8080/",
          "height": 295
        },
        "id": "dIzXAitbOhYY",
        "outputId": "4aca668c-439f-44cb-c560-6828894d61f1"
      },
      "execution_count": 22,
      "outputs": [
        {
          "output_type": "display_data",
          "data": {
            "text/plain": [
              "<Figure size 432x288 with 1 Axes>"
            ],
            "image/png": "[encoded data removed]"
          },
          "metadata": {
            "needs_background": "light"
          }
        }
      ]
    },
    {
      "cell_type": "code",
      "source": [
        "model.save('3rdDegreesRoboticArm.h5')"
      ],
      "metadata": {
        "id": "Y8MHzLy6Oj4t"
      },
      "execution_count": 23,
      "outputs": []
    },
    {
      "cell_type": "code",
      "source": [
        "y_pred = model.predict(x_train)"
      ],
      "metadata": {
        "id": "Mf5VfFAKOtQQ"
      },
      "execution_count": 25,
      "outputs": []
    }
  ]
}