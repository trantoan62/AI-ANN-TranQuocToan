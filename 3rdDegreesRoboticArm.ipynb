{
  "nbformat": 4,
  "nbformat_minor": 0,
  "metadata": {
    "colab": {
      "name": "3rdDegreesRoboticArm.ipynb",
      "provenance": [],
      "collapsed_sections": [],
      "authorship_tag": "ABX9TyPzH2KzCL2IFT+G4cZcDw7y",
      "include_colab_link": true
    },
    "kernelspec": {
      "name": "python3",
      "display_name": "Python 3"
    },
    "language_info": {
      "name": "python"
    },
    "accelerator": "GPU"
  },
  "cells": [
    {
      "cell_type": "markdown",
      "metadata": {
        "id": "view-in-github",
        "colab_type": "text"
      },
      "source": [
        "<a href=\"https://colab.research.google.com/github/trantoan62/AI-ANN-TranQuocToan/blob/main/3rdDegreesRoboticArm.ipynb\" target=\"_parent\"><img src=\"https://colab.research.google.com/assets/colab-badge.svg\" alt=\"Open In Colab\"/></a>"
      ]
    },
    {
      "cell_type": "code",
      "execution_count": null,
      "metadata": {
        "id": "ddQ97MkAJY9X"
      },
      "outputs": [],
      "source": [
        "#l1 = 10, l2 = 40, l3 = 20"
      ]
    },
    {
      "cell_type": "code",
      "source": [
        "# bài 5: robot 3 bậc tự do như trên + 1 bậc trên oxy, tt1, tt2, tt3 => px, py, góc phi là góc định hướng\n",
        "# px = l1.c1 + l2.c12 + l3.c123\n",
        "# px = l1.c1 + l2.c12 + l3.c123\n",
        "# phi = tt1 + tt2 + tt3"
      ],
      "metadata": {
        "id": "cn4LoTH6Ja6K"
      },
      "execution_count": null,
      "outputs": []
    },
    {
      "cell_type": "code",
      "source": [
        "import numpy as np\n",
        "import pandas as pd\n",
        "import matplotlib.pyplot as plt\n",
        "import seaborn as sns\n",
        "from sklearn.linear_model import LinearRegression"
      ],
      "metadata": {
        "id": "9BfDKiU7JbQB"
      },
      "execution_count": 6,
      "outputs": []
    },
    {
      "cell_type": "code",
      "source": [
        "from tensorflow.keras.utils import to_categorical\n",
        "from keras.models import Sequential\n",
        "from keras.layers import Dense,Activation,Dropout\n",
        "from tensorflow.keras.optimizers import RMSprop\n",
        "from keras.callbacks import EarlyStopping\n",
        "from sklearn.model_selection import train_test_split\n",
        "from tensorflow import keras"
      ],
      "metadata": {
        "id": "gy6z6vcyJbes"
      },
      "execution_count": 7,
      "outputs": []
    },
    {
      "cell_type": "code",
      "source": [
        "l1 = 10\n",
        "l2 = 40\n",
        "L3 = 20\n",
        "px = []\n",
        "py= []\n",
        "theta= []\n",
        "tt1 =[]\n",
        "tt2 =[]\n",
        "tt3 =[]"
      ],
      "metadata": {
        "id": "xNCTnho2JeEK"
      },
      "execution_count": 8,
      "outputs": []
    },
    {
      "cell_type": "code",
      "source": [
        "for i in np.arange(0, 360, 5):\n",
        "    for j in np.arange(0, 360, 5):\n",
        "      for k in np.arange(0, 360, 5):\n",
        "              x = l1*np.cos(np.radians(i)) + l2*np.cos(np.radians(i+j)) + L3*np.cos(np.radians(i+j+k))\n",
        "              y = l1*np.sin(np.radians(i)) + l2*np.sin(np.radians(i+j)) + L3*np.sin(np.radians(i+j+k))\n",
        "              tt_sum = (i+j+k)%360\n",
        "              px.append(x)\n",
        "              py.append(y)\n",
        "              theta.append(tt_sum)\n",
        "              tt1.append(i)\n",
        "              tt2.append(j)\n",
        "              tt3.append(k)"
      ],
      "metadata": {
        "id": "DaWbPvTCJvtm"
      },
      "execution_count": 9,
      "outputs": []
    },
    {
      "cell_type": "code",
      "source": [
        "Px = np.array([px])\n",
        "Py = np.array([py])\n",
        "Tt_sum = np.array([theta])\n",
        "Tt1= np.array([tt1])\n",
        "Tt2 = np.array([tt2])\n",
        "Tt3 = np.array([tt3])"
      ],
      "metadata": {
        "id": "Lxsaq8e8KrcH"
      },
      "execution_count": 10,
      "outputs": []
    },
    {
      "cell_type": "code",
      "source": [
        "Px.shape"
      ],
      "metadata": {
        "colab": {
          "base_uri": "https://localhost:8080/"
        },
        "id": "TzhcB--7M6K2",
        "outputId": "231dd56f-3720-4089-8fc7-ea8a4c925ac8"
      },
      "execution_count": 11,
      "outputs": [
        {
          "output_type": "execute_result",
          "data": {
            "text/plain": [
              "(1, 373248)"
            ]
          },
          "metadata": {},
          "execution_count": 11
        }
      ]
    },
    {
      "cell_type": "code",
      "source": [
        "Tt1 = Tt1.astype('float32')\n",
        "Tt2 = Tt2.astype('float32')\n",
        "Tt3 = Tt3.astype('float32')"
      ],
      "metadata": {
        "id": "nFXhOH-fF8zI"
      },
      "execution_count": 12,
      "outputs": []
    },
    {
      "cell_type": "code",
      "source": [
        "Tt1 /= 360\n",
        "Tt2 /= 360\n",
        "Tt3 /= 360"
      ],
      "metadata": {
        "id": "8mYlMvE7GK56"
      },
      "execution_count": 13,
      "outputs": []
    },
    {
      "cell_type": "code",
      "source": [
        "result = np.concatenate((Tt1.T, Tt2.T, Tt3.T),axis =1)\n",
        "train = np.concatenate((Px.T, Py.T, Tt_sum.T),axis =1)\n",
        "result.shape"
      ],
      "metadata": {
        "colab": {
          "base_uri": "https://localhost:8080/"
        },
        "id": "FvG7cqyhNeoc",
        "outputId": "e6d24987-d75b-4a0c-eb07-84d3bba6e252"
      },
      "execution_count": 14,
      "outputs": [
        {
          "output_type": "execute_result",
          "data": {
            "text/plain": [
              "(373248, 3)"
            ]
          },
          "metadata": {},
          "execution_count": 14
        }
      ]
    },
    {
      "cell_type": "code",
      "source": [
        "x_train = result[0:261273,:]\n",
        "y_train = train[0:261273,:]\n",
        "x_test = result[261273:373248,:]\n",
        "y_test = train[261273:373248,:]"
      ],
      "metadata": {
        "id": "cPj34y8aNpHa"
      },
      "execution_count": 15,
      "outputs": []
    },
    {
      "cell_type": "code",
      "source": [
        "model=Sequential()\n",
        "model.add(Dense(512, activation='relu', input_shape=(3,)))\n",
        "model.add(Dense(512, activation='relu'))\n",
        "model.add(Dense(3, activation='linear'))\n",
        "model.summary()"
      ],
      "metadata": {
        "colab": {
          "base_uri": "https://localhost:8080/"
        },
        "id": "wUL-XkM2OQT8",
        "outputId": "391268c4-98cd-46ea-a436-ab9756b669dd"
      },
      "execution_count": 16,
      "outputs": [
        {
          "output_type": "stream",
          "name": "stdout",
          "text": [
            "Model: \"sequential\"\n",
            "_________________________________________________________________\n",
            " Layer (type)                Output Shape              Param #   \n",
            "=================================================================\n",
            " dense (Dense)               (None, 512)               2048      \n",
            "                                                                 \n",
            " dense_1 (Dense)             (None, 512)               262656    \n",
            "                                                                 \n",
            " dense_2 (Dense)             (None, 3)                 1539      \n",
            "                                                                 \n",
            "=================================================================\n",
            "Total params: 266,243\n",
            "Trainable params: 266,243\n",
            "Non-trainable params: 0\n",
            "_________________________________________________________________\n"
          ]
        }
      ]
    },
    {
      "cell_type": "code",
      "source": [
        "model.compile(loss = ['mae'], \n",
        "              optimizer = 'Adam', \n",
        "              metrics = ['accuracy'])"
      ],
      "metadata": {
        "id": "6iF1Gop0OWOT"
      },
      "execution_count": 17,
      "outputs": []
    },
    {
      "cell_type": "code",
      "source": [
        "history = model.fit(x_train, y_train, batch_size=128, epochs=30, verbose=1, validation_data=(x_test,y_test))"
      ],
      "metadata": {
        "colab": {
          "base_uri": "https://localhost:8080/"
        },
        "id": "ydIFyqnfOZhu",
        "outputId": "9c1b8b23-125e-494f-8927-9fde84abadda"
      },
      "execution_count": 19,
      "outputs": [
        {
          "output_type": "stream",
          "name": "stdout",
          "text": [
            "Epoch 1/30\n",
            "2042/2042 [==============================] - 18s 9ms/step - loss: 7.5767 - accuracy: 0.9369 - val_loss: 24.1546 - val_accuracy: 0.9246\n",
            "Epoch 2/30\n",
            "2042/2042 [==============================] - 17s 8ms/step - loss: 6.8291 - accuracy: 0.9372 - val_loss: 22.8380 - val_accuracy: 0.9253\n",
            "Epoch 3/30\n",
            "2042/2042 [==============================] - 17s 8ms/step - loss: 6.1816 - accuracy: 0.9390 - val_loss: 21.8576 - val_accuracy: 0.9291\n",
            "Epoch 4/30\n",
            "2042/2042 [==============================] - 17s 8ms/step - loss: 5.7420 - accuracy: 0.9410 - val_loss: 20.0662 - val_accuracy: 0.9278\n",
            "Epoch 5/30\n",
            "2042/2042 [==============================] - 17s 9ms/step - loss: 5.3136 - accuracy: 0.9438 - val_loss: 17.8938 - val_accuracy: 0.9296\n",
            "Epoch 6/30\n",
            "2042/2042 [==============================] - 18s 9ms/step - loss: 4.9369 - accuracy: 0.9484 - val_loss: 16.1930 - val_accuracy: 0.9325\n",
            "Epoch 7/30\n",
            "2042/2042 [==============================] - 17s 8ms/step - loss: 4.5585 - accuracy: 0.9542 - val_loss: 14.5391 - val_accuracy: 0.9359\n",
            "Epoch 8/30\n",
            "2042/2042 [==============================] - 17s 8ms/step - loss: 4.1080 - accuracy: 0.9608 - val_loss: 12.4484 - val_accuracy: 0.9466\n",
            "Epoch 9/30\n",
            "2042/2042 [==============================] - 17s 8ms/step - loss: 3.9106 - accuracy: 0.9653 - val_loss: 11.9175 - val_accuracy: 0.9573\n",
            "Epoch 10/30\n",
            "2042/2042 [==============================] - 18s 9ms/step - loss: 3.6887 - accuracy: 0.9682 - val_loss: 11.7974 - val_accuracy: 0.9480\n",
            "Epoch 11/30\n",
            "2042/2042 [==============================] - 17s 8ms/step - loss: 3.5638 - accuracy: 0.9700 - val_loss: 10.4852 - val_accuracy: 0.9582\n",
            "Epoch 12/30\n",
            "2042/2042 [==============================] - 17s 8ms/step - loss: 3.4811 - accuracy: 0.9713 - val_loss: 10.5702 - val_accuracy: 0.9559\n",
            "Epoch 13/30\n",
            "2042/2042 [==============================] - 17s 8ms/step - loss: 3.4071 - accuracy: 0.9730 - val_loss: 9.8307 - val_accuracy: 0.9628\n",
            "Epoch 14/30\n",
            "2042/2042 [==============================] - 17s 8ms/step - loss: 3.2618 - accuracy: 0.9741 - val_loss: 9.5558 - val_accuracy: 0.9585\n",
            "Epoch 15/30\n",
            "2042/2042 [==============================] - 17s 8ms/step - loss: 3.2455 - accuracy: 0.9743 - val_loss: 9.1099 - val_accuracy: 0.9597\n",
            "Epoch 16/30\n",
            "2042/2042 [==============================] - 17s 8ms/step - loss: 3.1349 - accuracy: 0.9749 - val_loss: 9.4635 - val_accuracy: 0.9616\n",
            "Epoch 17/30\n",
            "2042/2042 [==============================] - 17s 8ms/step - loss: 3.0766 - accuracy: 0.9752 - val_loss: 9.9797 - val_accuracy: 0.9676\n",
            "Epoch 18/30\n",
            "2042/2042 [==============================] - 17s 8ms/step - loss: 2.9992 - accuracy: 0.9757 - val_loss: 9.1687 - val_accuracy: 0.9608\n",
            "Epoch 19/30\n",
            "2042/2042 [==============================] - 17s 8ms/step - loss: 2.9447 - accuracy: 0.9758 - val_loss: 9.1465 - val_accuracy: 0.9627\n",
            "Epoch 20/30\n",
            "2042/2042 [==============================] - 17s 8ms/step - loss: 2.8982 - accuracy: 0.9763 - val_loss: 9.9834 - val_accuracy: 0.9668\n",
            "Epoch 21/30\n",
            "2042/2042 [==============================] - 17s 8ms/step - loss: 2.8364 - accuracy: 0.9762 - val_loss: 8.9401 - val_accuracy: 0.9582\n",
            "Epoch 22/30\n",
            "2042/2042 [==============================] - 17s 8ms/step - loss: 2.7840 - accuracy: 0.9767 - val_loss: 8.8620 - val_accuracy: 0.9613\n",
            "Epoch 23/30\n",
            "2042/2042 [==============================] - 17s 8ms/step - loss: 2.8090 - accuracy: 0.9767 - val_loss: 8.8077 - val_accuracy: 0.9625\n",
            "Epoch 24/30\n",
            "2042/2042 [==============================] - 17s 8ms/step - loss: 2.7382 - accuracy: 0.9771 - val_loss: 8.3875 - val_accuracy: 0.9615\n",
            "Epoch 25/30\n",
            "2042/2042 [==============================] - 17s 8ms/step - loss: 2.6835 - accuracy: 0.9773 - val_loss: 8.5295 - val_accuracy: 0.9631\n",
            "Epoch 26/30\n",
            "2042/2042 [==============================] - 18s 9ms/step - loss: 2.7151 - accuracy: 0.9779 - val_loss: 8.5745 - val_accuracy: 0.9634\n",
            "Epoch 27/30\n",
            "2042/2042 [==============================] - 17s 8ms/step - loss: 2.6860 - accuracy: 0.9778 - val_loss: 8.5841 - val_accuracy: 0.9615\n",
            "Epoch 28/30\n",
            "2042/2042 [==============================] - 17s 9ms/step - loss: 2.6423 - accuracy: 0.9784 - val_loss: 8.7344 - val_accuracy: 0.9683\n",
            "Epoch 29/30\n",
            "2042/2042 [==============================] - 17s 9ms/step - loss: 2.6042 - accuracy: 0.9791 - val_loss: 7.8676 - val_accuracy: 0.9638\n",
            "Epoch 30/30\n",
            "2042/2042 [==============================] - 17s 9ms/step - loss: 2.6235 - accuracy: 0.9796 - val_loss: 7.6863 - val_accuracy: 0.9698\n"
          ]
        }
      ]
    },
    {
      "cell_type": "code",
      "source": [
        "Score = model.evaluate(x_test,y_test,verbose = 1)"
      ],
      "metadata": {
        "colab": {
          "base_uri": "https://localhost:8080/"
        },
        "id": "gP3lu9WOOefV",
        "outputId": "f6ed08eb-191b-4e58-9c7c-99f33cf618c2"
      },
      "execution_count": 20,
      "outputs": [
        {
          "output_type": "stream",
          "name": "stdout",
          "text": [
            "3500/3500 [==============================] - 11s 3ms/step - loss: 7.6863 - accuracy: 0.9698\n"
          ]
        }
      ]
    },
    {
      "cell_type": "code",
      "source": [
        "plt.plot(history.history['accuracy'])\n",
        "plt.plot(history.history['val_accuracy'])\n",
        "plt.title('Model accuracy')\n",
        "plt.ylabel('accuracy')\n",
        "plt.xlabel('epoch')\n",
        "plt.legend(['Train','Validation'], loc ='center right')\n",
        "plt.show()"
      ],
      "metadata": {
        "colab": {
          "base_uri": "https://localhost:8080/",
          "height": 295
        },
        "id": "dIzXAitbOhYY",
        "outputId": "311ba958-8367-45c1-f3d3-f9d7a730c3a1"
      },
      "execution_count": 21,
      "outputs": [
        {
          "output_type": "display_data",
          "data": {
            "text/plain": [
              "<Figure size 432x288 with 1 Axes>"
            ],
            "image/png": "[encoded data removed]"
          },
          "metadata": {
            "needs_background": "light"
          }
        }
      ]
    },
    {
      "cell_type": "code",
      "source": [
        "model.save('3rdDegreesRoboticArm.h5')"
      ],
      "metadata": {
        "id": "Y8MHzLy6Oj4t"
      },
      "execution_count": 22,
      "outputs": []
    },
    {
      "cell_type": "code",
      "source": [
        "y_pred = model.predict(x_train)"
      ],
      "metadata": {
        "id": "Mf5VfFAKOtQQ"
      },
      "execution_count": null,
      "outputs": []
    }
  ]
}