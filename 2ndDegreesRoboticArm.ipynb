{
  "nbformat": 4,
  "nbformat_minor": 0,
  "metadata": {
    "colab": {
      "name": "2ndDegreesRoboticArm.ipynb",
      "provenance": [],
      "collapsed_sections": [],
      "authorship_tag": "ABX9TyN4ePQRwEuA9bCrcR3PRBKW",
      "include_colab_link": true
    },
    "kernelspec": {
      "name": "python3",
      "display_name": "Python 3"
    },
    "language_info": {
      "name": "python"
    },
    "accelerator": "GPU"
  },
  "cells": [
    {
      "cell_type": "markdown",
      "metadata": {
        "id": "view-in-github",
        "colab_type": "text"
      },
      "source": [
        "<a href=\"https://colab.research.google.com/github/trantoan62/AI-toi-t4/blob/main/2ndDegreesRoboticArm.ipynb\" target=\"_parent\"><img src=\"https://colab.research.google.com/assets/colab-badge.svg\" alt=\"Open In Colab\"/></a>"
      ]
    },
    {
      "cell_type": "code",
      "source": [
        "#l1 = 10, l2 = 40, l3 = 20"
      ],
      "metadata": {
        "id": "yikKiBdXBn3l"
      },
      "execution_count": null,
      "outputs": []
    },
    {
      "cell_type": "code",
      "execution_count": null,
      "metadata": {
        "id": "m-DxIimN_fI5"
      },
      "outputs": [],
      "source": [
        "# bài 4: robot 2 bậc tự do oxy như sgk l1 = 50, l2 = 40, tt1, tt2. -> theta 1, theta 2, px, py \n",
        "# px = l1.cos(tt1) +l2.cos(tt1+tt2)\n",
        "# py = l1.sin(tt1) +l2.sin(tt1+tt2)\n",
        "# tạo 1 data động học thuận xài hàm for -> nhờ training bằng kq động học thuận"
      ]
    },
    {
      "cell_type": "code",
      "source": [
        "# bài 5: robot 3 bậc tự do như trên + 1 bậc trên oxy, tt1, tt2, tt3 => px, py, góc phi là góc định hướng\n",
        "# px = l1.c1 + l2.c12 + l3.c123\n",
        "# px = l1.c1 + l2.c12 + l3.c123\n",
        "# phi = tt1 + tt2 + tt3"
      ],
      "metadata": {
        "id": "6twKGIB1AgzL"
      },
      "execution_count": null,
      "outputs": []
    },
    {
      "cell_type": "code",
      "source": [
        "import numpy as np\n",
        "import pandas as pd\n",
        "import matplotlib.pyplot as plt\n",
        "import seaborn as sns\n",
        "from sklearn.linear_model import LinearRegression"
      ],
      "metadata": {
        "id": "IjYxa58KBrBp"
      },
      "execution_count": null,
      "outputs": []
    },
    {
      "cell_type": "code",
      "source": [
        "from tensorflow.keras.utils import to_categorical\n",
        "from keras.models import Sequential\n",
        "from keras.layers import Dense,Activation,Dropout\n",
        "from tensorflow.keras.optimizers import RMSprop\n",
        "from keras.callbacks import EarlyStopping\n",
        "from sklearn.model_selection import train_test_split\n",
        "from tensorflow import keras"
      ],
      "metadata": {
        "id": "wwtqUuA9EXKy"
      },
      "execution_count": null,
      "outputs": []
    },
    {
      "cell_type": "code",
      "source": [
        "l1 = 10\n",
        "l2 = 40\n",
        "Px = []\n",
        "Py= []\n",
        "tt1 =[]\n",
        "tt2 =[]"
      ],
      "metadata": {
        "id": "2A4Ns6cZEAVj"
      },
      "execution_count": null,
      "outputs": []
    },
    {
      "cell_type": "code",
      "source": [
        "for i in np.arange(0, 360, 1):\n",
        "    for j in np.arange(0, 360, 1):\n",
        "      x = l1*np.cos(np.radians(i)) + l2*np.cos(np.radians(i+j))\n",
        "      y = l1*np.sin(np.radians(i)) + l2*np.sin(np.radians(i+j))\n",
        "      px.append(x)\n",
        "      py.append(y)\n",
        "      tt1.append(i)\n",
        "      tt2.append(j)"
      ],
      "metadata": {
        "id": "MuzAQU6tE0o3"
      },
      "execution_count": null,
      "outputs": []
    },
    {
      "cell_type": "code",
      "source": [
        "Px = np.array([px])\n",
        "Py = np.array([py])\n",
        "Tt1= np.array([tt1])\n",
        "Tt2 = np.array([tt2])"
      ],
      "metadata": {
        "id": "gOna2ZnLFq4s"
      },
      "execution_count": null,
      "outputs": []
    },
    {
      "cell_type": "code",
      "source": [
        "Px.shape"
      ],
      "metadata": {
        "colab": {
          "base_uri": "https://localhost:8080/"
        },
        "id": "6DcBlIAFGpgv",
        "outputId": "26d7c4fc-846e-40af-d75f-174635c96866"
      },
      "execution_count": null,
      "outputs": [
        {
          "output_type": "execute_result",
          "data": {
            "text/plain": [
              "(1, 129600)"
            ]
          },
          "metadata": {},
          "execution_count": 22
        }
      ]
    },
    {
      "cell_type": "code",
      "source": [
        "result = np.concatenate((Tt1.T, Tt2.T),axis =1)\n",
        "train = np.concatenate((Px.T, Py.T),axis =1)\n",
        "result.shape"
      ],
      "metadata": {
        "colab": {
          "base_uri": "https://localhost:8080/"
        },
        "id": "3F7_r4OUGrSM",
        "outputId": "af360e55-d1f5-4b02-8f08-5c8f518ebc1b"
      },
      "execution_count": null,
      "outputs": [
        {
          "output_type": "execute_result",
          "data": {
            "text/plain": [
              "(129600, 2)"
            ]
          },
          "metadata": {},
          "execution_count": 23
        }
      ]
    },
    {
      "cell_type": "code",
      "source": [
        "x_train = result[0:90720,:]\n",
        "y_train = train[0:90720,:]\n",
        "x_test = result[90720:129600,:]\n",
        "y_test = train[90720:129600,:]"
      ],
      "metadata": {
        "id": "c9LsNh0XHGvH"
      },
      "execution_count": null,
      "outputs": []
    },
    {
      "cell_type": "code",
      "source": [
        "model=Sequential()\n",
        "model.add(Dense(512, activation='relu', input_shape=(2,)))\n",
        "model.add(Dense(512, activation='relu'))\n",
        "model.add(Dense(2, activation='linear'))\n",
        "model.summary()"
      ],
      "metadata": {
        "colab": {
          "base_uri": "https://localhost:8080/"
        },
        "id": "ZKGb6er7HiZB",
        "outputId": "8cf3c78d-175c-4335-d58d-92454fcf2e18"
      },
      "execution_count": null,
      "outputs": [
        {
          "output_type": "stream",
          "name": "stdout",
          "text": [
            "Model: \"sequential\"\n",
            "_________________________________________________________________\n",
            " Layer (type)                Output Shape              Param #   \n",
            "=================================================================\n",
            " dense (Dense)               (None, 512)               1536      \n",
            "                                                                 \n",
            " dense_1 (Dense)             (None, 512)               262656    \n",
            "                                                                 \n",
            " dense_2 (Dense)             (None, 2)                 1026      \n",
            "                                                                 \n",
            "=================================================================\n",
            "Total params: 265,218\n",
            "Trainable params: 265,218\n",
            "Non-trainable params: 0\n",
            "_________________________________________________________________\n"
          ]
        }
      ]
    },
    {
      "cell_type": "code",
      "source": [
        "model.compile(loss = ['mae'], \n",
        "              optimizer = 'Adam', \n",
        "              metrics = ['accuracy'])"
      ],
      "metadata": {
        "id": "w-4f_UNpH4ej"
      },
      "execution_count": null,
      "outputs": []
    },
    {
      "cell_type": "code",
      "source": [
        "history = model.fit(x_train, y_train, batch_size=128, epochs=200, verbose=1, validation_data=(x_test,y_test))"
      ],
      "metadata": {
        "colab": {
          "base_uri": "https://localhost:8080/"
        },
        "id": "DEX77HptIYEn",
        "outputId": "e5213797-f0d5-40c6-97cf-398e9ec436c6"
      },
      "execution_count": null,
      "outputs": [
        {
          "output_type": "stream",
          "name": "stdout",
          "text": [
            "Epoch 1/200\n",
            "709/709 [==============================] - 6s 4ms/step - loss: 22.3688 - accuracy: 0.6160 - val_loss: 44.2587 - val_accuracy: 0.4150\n",
            "Epoch 2/200\n",
            "709/709 [==============================] - 3s 4ms/step - loss: 17.9843 - accuracy: 0.7118 - val_loss: 46.6923 - val_accuracy: 0.4515\n",
            "Epoch 3/200\n",
            "709/709 [==============================] - 3s 4ms/step - loss: 7.7755 - accuracy: 0.9202 - val_loss: 34.5734 - val_accuracy: 0.5683\n",
            "Epoch 4/200\n",
            "709/709 [==============================] - 3s 4ms/step - loss: 4.2557 - accuracy: 0.9678 - val_loss: 30.5889 - val_accuracy: 0.6299\n",
            "Epoch 5/200\n",
            "709/709 [==============================] - 2s 3ms/step - loss: 3.1303 - accuracy: 0.9731 - val_loss: 24.5664 - val_accuracy: 0.6682\n",
            "Epoch 6/200\n",
            "709/709 [==============================] - 3s 4ms/step - loss: 2.5987 - accuracy: 0.9749 - val_loss: 21.9912 - val_accuracy: 0.6665\n",
            "Epoch 7/200\n",
            "709/709 [==============================] - 3s 4ms/step - loss: 2.2289 - accuracy: 0.9762 - val_loss: 21.4751 - val_accuracy: 0.6706\n",
            "Epoch 8/200\n",
            "709/709 [==============================] - 3s 4ms/step - loss: 2.2095 - accuracy: 0.9760 - val_loss: 17.8227 - val_accuracy: 0.6823\n",
            "Epoch 9/200\n",
            "709/709 [==============================] - 2s 3ms/step - loss: 2.1713 - accuracy: 0.9764 - val_loss: 17.6343 - val_accuracy: 0.6761\n",
            "Epoch 10/200\n",
            "709/709 [==============================] - 4s 6ms/step - loss: 2.0030 - accuracy: 0.9775 - val_loss: 16.2581 - val_accuracy: 0.7330\n",
            "Epoch 11/200\n",
            "709/709 [==============================] - 3s 4ms/step - loss: 2.2502 - accuracy: 0.9750 - val_loss: 14.7679 - val_accuracy: 0.7010\n",
            "Epoch 12/200\n",
            "709/709 [==============================] - 3s 4ms/step - loss: 1.9443 - accuracy: 0.9776 - val_loss: 15.1723 - val_accuracy: 0.7475\n",
            "Epoch 13/200\n",
            "709/709 [==============================] - 3s 4ms/step - loss: 1.9478 - accuracy: 0.9781 - val_loss: 16.4829 - val_accuracy: 0.7274\n",
            "Epoch 14/200\n",
            "709/709 [==============================] - 3s 4ms/step - loss: 1.7185 - accuracy: 0.9801 - val_loss: 11.8545 - val_accuracy: 0.8115\n",
            "Epoch 15/200\n",
            "709/709 [==============================] - 3s 4ms/step - loss: 1.8062 - accuracy: 0.9794 - val_loss: 14.6591 - val_accuracy: 0.7817\n",
            "Epoch 16/200\n",
            "709/709 [==============================] - 3s 4ms/step - loss: 1.7978 - accuracy: 0.9796 - val_loss: 11.5868 - val_accuracy: 0.8343\n",
            "Epoch 17/200\n",
            "709/709 [==============================] - 3s 4ms/step - loss: 1.7957 - accuracy: 0.9799 - val_loss: 10.5702 - val_accuracy: 0.8592\n",
            "Epoch 18/200\n",
            "709/709 [==============================] - 2s 3ms/step - loss: 1.8350 - accuracy: 0.9792 - val_loss: 18.6540 - val_accuracy: 0.6670\n",
            "Epoch 19/200\n",
            "709/709 [==============================] - 3s 4ms/step - loss: 1.7573 - accuracy: 0.9801 - val_loss: 12.2012 - val_accuracy: 0.8067\n",
            "Epoch 20/200\n",
            "709/709 [==============================] - 5s 7ms/step - loss: 2.0486 - accuracy: 0.9763 - val_loss: 20.3142 - val_accuracy: 0.6342\n",
            "Epoch 21/200\n",
            "709/709 [==============================] - 3s 4ms/step - loss: 1.8527 - accuracy: 0.9788 - val_loss: 16.9383 - val_accuracy: 0.7202\n",
            "Epoch 22/200\n",
            "709/709 [==============================] - 3s 4ms/step - loss: 1.7499 - accuracy: 0.9800 - val_loss: 16.1079 - val_accuracy: 0.7168\n",
            "Epoch 23/200\n",
            "709/709 [==============================] - 2s 3ms/step - loss: 1.7663 - accuracy: 0.9800 - val_loss: 17.2860 - val_accuracy: 0.6818\n",
            "Epoch 24/200\n",
            "709/709 [==============================] - 3s 4ms/step - loss: 1.8523 - accuracy: 0.9785 - val_loss: 15.1435 - val_accuracy: 0.7514\n",
            "Epoch 25/200\n",
            "709/709 [==============================] - 2s 3ms/step - loss: 2.0390 - accuracy: 0.9764 - val_loss: 14.2374 - val_accuracy: 0.7664\n",
            "Epoch 26/200\n",
            "709/709 [==============================] - 2s 3ms/step - loss: 1.8097 - accuracy: 0.9796 - val_loss: 16.5366 - val_accuracy: 0.7120\n",
            "Epoch 27/200\n",
            "709/709 [==============================] - 3s 4ms/step - loss: 1.8323 - accuracy: 0.9788 - val_loss: 13.5838 - val_accuracy: 0.8156\n",
            "Epoch 28/200\n",
            "709/709 [==============================] - 3s 4ms/step - loss: 1.6589 - accuracy: 0.9811 - val_loss: 13.4895 - val_accuracy: 0.8048\n",
            "Epoch 29/200\n",
            "709/709 [==============================] - 3s 4ms/step - loss: 1.9374 - accuracy: 0.9771 - val_loss: 15.9972 - val_accuracy: 0.7389\n",
            "Epoch 30/200\n",
            "709/709 [==============================] - 3s 4ms/step - loss: 1.9587 - accuracy: 0.9777 - val_loss: 19.1366 - val_accuracy: 0.6894\n",
            "Epoch 31/200\n",
            "709/709 [==============================] - 3s 4ms/step - loss: 1.8303 - accuracy: 0.9785 - val_loss: 15.3411 - val_accuracy: 0.7662\n",
            "Epoch 32/200\n",
            "709/709 [==============================] - 2s 3ms/step - loss: 1.7643 - accuracy: 0.9794 - val_loss: 15.3813 - val_accuracy: 0.7764\n",
            "Epoch 33/200\n",
            "709/709 [==============================] - 3s 4ms/step - loss: 2.0543 - accuracy: 0.9760 - val_loss: 16.9408 - val_accuracy: 0.7477\n",
            "Epoch 34/200\n",
            "709/709 [==============================] - 3s 4ms/step - loss: 1.8322 - accuracy: 0.9787 - val_loss: 22.6692 - val_accuracy: 0.6073\n",
            "Epoch 35/200\n",
            "709/709 [==============================] - 3s 4ms/step - loss: 1.8522 - accuracy: 0.9785 - val_loss: 17.8367 - val_accuracy: 0.7212\n",
            "Epoch 36/200\n",
            "709/709 [==============================] - 3s 4ms/step - loss: 1.5688 - accuracy: 0.9822 - val_loss: 15.5291 - val_accuracy: 0.7799\n",
            "Epoch 37/200\n",
            "709/709 [==============================] - 3s 4ms/step - loss: 1.6284 - accuracy: 0.9819 - val_loss: 13.0790 - val_accuracy: 0.8294\n",
            "Epoch 38/200\n",
            "709/709 [==============================] - 3s 4ms/step - loss: 1.8183 - accuracy: 0.9780 - val_loss: 18.6188 - val_accuracy: 0.7267\n",
            "Epoch 39/200\n",
            "709/709 [==============================] - 2s 4ms/step - loss: 1.5647 - accuracy: 0.9821 - val_loss: 18.4107 - val_accuracy: 0.7211\n",
            "Epoch 40/200\n",
            "709/709 [==============================] - 3s 4ms/step - loss: 1.6686 - accuracy: 0.9807 - val_loss: 14.8447 - val_accuracy: 0.7945\n",
            "Epoch 41/200\n",
            "709/709 [==============================] - 3s 4ms/step - loss: 1.8114 - accuracy: 0.9796 - val_loss: 13.5452 - val_accuracy: 0.8347\n",
            "Epoch 42/200\n",
            "709/709 [==============================] - 3s 4ms/step - loss: 1.5919 - accuracy: 0.9817 - val_loss: 18.5811 - val_accuracy: 0.7334\n",
            "Epoch 43/200\n",
            "709/709 [==============================] - 3s 4ms/step - loss: 1.6598 - accuracy: 0.9806 - val_loss: 15.6893 - val_accuracy: 0.7662\n",
            "Epoch 44/200\n",
            "709/709 [==============================] - 3s 4ms/step - loss: 1.5490 - accuracy: 0.9821 - val_loss: 14.1668 - val_accuracy: 0.8033\n",
            "Epoch 45/200\n",
            "709/709 [==============================] - 4s 6ms/step - loss: 1.4274 - accuracy: 0.9829 - val_loss: 14.4030 - val_accuracy: 0.8023\n",
            "Epoch 46/200\n",
            "709/709 [==============================] - 4s 5ms/step - loss: 1.6987 - accuracy: 0.9808 - val_loss: 15.0509 - val_accuracy: 0.7795\n",
            "Epoch 47/200\n",
            "709/709 [==============================] - 3s 4ms/step - loss: 1.5854 - accuracy: 0.9821 - val_loss: 18.0405 - val_accuracy: 0.6774\n",
            "Epoch 48/200\n",
            "709/709 [==============================] - 4s 5ms/step - loss: 1.7171 - accuracy: 0.9804 - val_loss: 15.1197 - val_accuracy: 0.7874\n",
            "Epoch 49/200\n",
            "709/709 [==============================] - 3s 4ms/step - loss: 1.5532 - accuracy: 0.9825 - val_loss: 16.8558 - val_accuracy: 0.7471\n",
            "Epoch 50/200\n",
            "709/709 [==============================] - 4s 6ms/step - loss: 1.6130 - accuracy: 0.9815 - val_loss: 16.3275 - val_accuracy: 0.7541\n",
            "Epoch 51/200\n",
            "709/709 [==============================] - 3s 5ms/step - loss: 1.5751 - accuracy: 0.9811 - val_loss: 16.5703 - val_accuracy: 0.7620\n",
            "Epoch 52/200\n",
            "709/709 [==============================] - 3s 4ms/step - loss: 1.7406 - accuracy: 0.9800 - val_loss: 16.4719 - val_accuracy: 0.7591\n",
            "Epoch 53/200\n",
            "709/709 [==============================] - 3s 4ms/step - loss: 1.5328 - accuracy: 0.9825 - val_loss: 18.8013 - val_accuracy: 0.7117\n",
            "Epoch 54/200\n",
            "709/709 [==============================] - 3s 4ms/step - loss: 1.5717 - accuracy: 0.9819 - val_loss: 13.0920 - val_accuracy: 0.8379\n",
            "Epoch 55/200\n",
            "709/709 [==============================] - 3s 4ms/step - loss: 1.7105 - accuracy: 0.9797 - val_loss: 17.8288 - val_accuracy: 0.7291\n",
            "Epoch 56/200\n",
            "709/709 [==============================] - 3s 4ms/step - loss: 1.4658 - accuracy: 0.9835 - val_loss: 20.8374 - val_accuracy: 0.6654\n",
            "Epoch 57/200\n",
            "709/709 [==============================] - 3s 4ms/step - loss: 1.8527 - accuracy: 0.9781 - val_loss: 17.8193 - val_accuracy: 0.7306\n",
            "Epoch 58/200\n",
            "709/709 [==============================] - 3s 4ms/step - loss: 1.6865 - accuracy: 0.9804 - val_loss: 15.7681 - val_accuracy: 0.7585\n",
            "Epoch 59/200\n",
            "709/709 [==============================] - 3s 4ms/step - loss: 1.6539 - accuracy: 0.9807 - val_loss: 18.4265 - val_accuracy: 0.7173\n",
            "Epoch 60/200\n",
            "709/709 [==============================] - 3s 4ms/step - loss: 1.6823 - accuracy: 0.9807 - val_loss: 20.1837 - val_accuracy: 0.6870\n",
            "Epoch 61/200\n",
            "709/709 [==============================] - 3s 4ms/step - loss: 1.6029 - accuracy: 0.9816 - val_loss: 17.1179 - val_accuracy: 0.7360\n",
            "Epoch 62/200\n",
            "709/709 [==============================] - 3s 4ms/step - loss: 1.6435 - accuracy: 0.9816 - val_loss: 16.6995 - val_accuracy: 0.7480\n",
            "Epoch 63/200\n",
            "709/709 [==============================] - 3s 4ms/step - loss: 1.6985 - accuracy: 0.9807 - val_loss: 18.6377 - val_accuracy: 0.7162\n",
            "Epoch 64/200\n",
            "709/709 [==============================] - 3s 4ms/step - loss: 1.5065 - accuracy: 0.9829 - val_loss: 18.7495 - val_accuracy: 0.7182\n",
            "Epoch 65/200\n",
            "709/709 [==============================] - 3s 4ms/step - loss: 1.6673 - accuracy: 0.9807 - val_loss: 17.8135 - val_accuracy: 0.7231\n",
            "Epoch 66/200\n",
            "709/709 [==============================] - 3s 4ms/step - loss: 1.5212 - accuracy: 0.9824 - val_loss: 16.8653 - val_accuracy: 0.7530\n",
            "Epoch 67/200\n",
            "709/709 [==============================] - 3s 4ms/step - loss: 1.6042 - accuracy: 0.9812 - val_loss: 17.9846 - val_accuracy: 0.6972\n",
            "Epoch 68/200\n",
            "709/709 [==============================] - 3s 4ms/step - loss: 1.5324 - accuracy: 0.9829 - val_loss: 15.6693 - val_accuracy: 0.7687\n",
            "Epoch 69/200\n",
            "709/709 [==============================] - 3s 4ms/step - loss: 1.6166 - accuracy: 0.9818 - val_loss: 18.1529 - val_accuracy: 0.7035\n",
            "Epoch 70/200\n",
            "709/709 [==============================] - 2s 4ms/step - loss: 1.3622 - accuracy: 0.9841 - val_loss: 18.2400 - val_accuracy: 0.7238\n",
            "Epoch 71/200\n",
            "709/709 [==============================] - 3s 4ms/step - loss: 1.7681 - accuracy: 0.9799 - val_loss: 14.7229 - val_accuracy: 0.7867\n",
            "Epoch 72/200\n",
            "709/709 [==============================] - 3s 4ms/step - loss: 1.4199 - accuracy: 0.9835 - val_loss: 20.7884 - val_accuracy: 0.6775\n",
            "Epoch 73/200\n",
            "709/709 [==============================] - 3s 4ms/step - loss: 1.4479 - accuracy: 0.9837 - val_loss: 20.6193 - val_accuracy: 0.6805\n",
            "Epoch 74/200\n",
            "709/709 [==============================] - 3s 4ms/step - loss: 1.5231 - accuracy: 0.9825 - val_loss: 21.0367 - val_accuracy: 0.6860\n",
            "Epoch 75/200\n",
            "709/709 [==============================] - 3s 4ms/step - loss: 1.5307 - accuracy: 0.9820 - val_loss: 18.3043 - val_accuracy: 0.7276\n",
            "Epoch 76/200\n",
            "709/709 [==============================] - 3s 4ms/step - loss: 1.5696 - accuracy: 0.9821 - val_loss: 18.4159 - val_accuracy: 0.7235\n",
            "Epoch 77/200\n",
            "709/709 [==============================] - 3s 4ms/step - loss: 1.3461 - accuracy: 0.9840 - val_loss: 18.9652 - val_accuracy: 0.7207\n",
            "Epoch 78/200\n",
            "709/709 [==============================] - 4s 5ms/step - loss: 1.4994 - accuracy: 0.9836 - val_loss: 18.4108 - val_accuracy: 0.7274\n",
            "Epoch 79/200\n",
            "709/709 [==============================] - 3s 5ms/step - loss: 1.3083 - accuracy: 0.9849 - val_loss: 18.4521 - val_accuracy: 0.7220\n",
            "Epoch 80/200\n",
            "709/709 [==============================] - 3s 4ms/step - loss: 1.3553 - accuracy: 0.9843 - val_loss: 17.5534 - val_accuracy: 0.7450\n",
            "Epoch 81/200\n",
            "709/709 [==============================] - 2s 4ms/step - loss: 1.6015 - accuracy: 0.9817 - val_loss: 19.7325 - val_accuracy: 0.7101\n",
            "Epoch 82/200\n",
            "709/709 [==============================] - 2s 4ms/step - loss: 1.5632 - accuracy: 0.9822 - val_loss: 14.7220 - val_accuracy: 0.7891\n",
            "Epoch 83/200\n",
            "709/709 [==============================] - 4s 5ms/step - loss: 1.5712 - accuracy: 0.9816 - val_loss: 19.9408 - val_accuracy: 0.6906\n",
            "Epoch 84/200\n",
            "709/709 [==============================] - 3s 4ms/step - loss: 1.2708 - accuracy: 0.9851 - val_loss: 16.1221 - val_accuracy: 0.7686\n",
            "Epoch 85/200\n",
            "709/709 [==============================] - 4s 6ms/step - loss: 1.5358 - accuracy: 0.9823 - val_loss: 19.8746 - val_accuracy: 0.6945\n",
            "Epoch 86/200\n",
            "709/709 [==============================] - 3s 5ms/step - loss: 1.4966 - accuracy: 0.9829 - val_loss: 21.0412 - val_accuracy: 0.6530\n",
            "Epoch 87/200\n",
            "709/709 [==============================] - 3s 4ms/step - loss: 1.5669 - accuracy: 0.9819 - val_loss: 20.7284 - val_accuracy: 0.6788\n",
            "Epoch 88/200\n",
            "709/709 [==============================] - 3s 4ms/step - loss: 1.6538 - accuracy: 0.9807 - val_loss: 16.8682 - val_accuracy: 0.7507\n",
            "Epoch 89/200\n",
            "709/709 [==============================] - 3s 4ms/step - loss: 1.3136 - accuracy: 0.9848 - val_loss: 16.0374 - val_accuracy: 0.7745\n",
            "Epoch 90/200\n",
            "709/709 [==============================] - 3s 4ms/step - loss: 1.6975 - accuracy: 0.9807 - val_loss: 17.2296 - val_accuracy: 0.7532\n",
            "Epoch 91/200\n",
            "709/709 [==============================] - 3s 4ms/step - loss: 1.5095 - accuracy: 0.9828 - val_loss: 18.0089 - val_accuracy: 0.7358\n",
            "Epoch 92/200\n",
            "709/709 [==============================] - 3s 4ms/step - loss: 1.4276 - accuracy: 0.9833 - val_loss: 19.0886 - val_accuracy: 0.7188\n",
            "Epoch 93/200\n",
            "709/709 [==============================] - 3s 4ms/step - loss: 1.5406 - accuracy: 0.9822 - val_loss: 19.6743 - val_accuracy: 0.7007\n",
            "Epoch 94/200\n",
            "709/709 [==============================] - 3s 4ms/step - loss: 1.4986 - accuracy: 0.9826 - val_loss: 15.5382 - val_accuracy: 0.7778\n",
            "Epoch 95/200\n",
            "709/709 [==============================] - 3s 4ms/step - loss: 1.4107 - accuracy: 0.9839 - val_loss: 20.8042 - val_accuracy: 0.6433\n",
            "Epoch 96/200\n",
            "709/709 [==============================] - 3s 4ms/step - loss: 1.4267 - accuracy: 0.9837 - val_loss: 16.7384 - val_accuracy: 0.7567\n",
            "Epoch 97/200\n",
            "709/709 [==============================] - 3s 4ms/step - loss: 1.3826 - accuracy: 0.9835 - val_loss: 20.1484 - val_accuracy: 0.6890\n",
            "Epoch 98/200\n",
            "709/709 [==============================] - 3s 4ms/step - loss: 1.3292 - accuracy: 0.9853 - val_loss: 21.9918 - val_accuracy: 0.6535\n",
            "Epoch 99/200\n",
            "709/709 [==============================] - 3s 4ms/step - loss: 1.3609 - accuracy: 0.9844 - val_loss: 19.7291 - val_accuracy: 0.7044\n",
            "Epoch 100/200\n",
            "709/709 [==============================] - 3s 4ms/step - loss: 1.5033 - accuracy: 0.9819 - val_loss: 21.2778 - val_accuracy: 0.6579\n",
            "Epoch 101/200\n",
            "709/709 [==============================] - 3s 4ms/step - loss: 1.3575 - accuracy: 0.9843 - val_loss: 19.3344 - val_accuracy: 0.7112\n",
            "Epoch 102/200\n",
            "709/709 [==============================] - 2s 4ms/step - loss: 1.4304 - accuracy: 0.9828 - val_loss: 20.4100 - val_accuracy: 0.6973\n",
            "Epoch 103/200\n",
            "709/709 [==============================] - 3s 4ms/step - loss: 1.6383 - accuracy: 0.9810 - val_loss: 19.9406 - val_accuracy: 0.6989\n",
            "Epoch 104/200\n",
            "709/709 [==============================] - 3s 4ms/step - loss: 1.3653 - accuracy: 0.9837 - val_loss: 18.0591 - val_accuracy: 0.7324\n",
            "Epoch 105/200\n",
            "709/709 [==============================] - 3s 4ms/step - loss: 1.2708 - accuracy: 0.9858 - val_loss: 20.0386 - val_accuracy: 0.6982\n",
            "Epoch 106/200\n",
            "709/709 [==============================] - 3s 4ms/step - loss: 1.5712 - accuracy: 0.9809 - val_loss: 16.9155 - val_accuracy: 0.7617\n",
            "Epoch 107/200\n",
            "709/709 [==============================] - 3s 4ms/step - loss: 1.4446 - accuracy: 0.9832 - val_loss: 19.8084 - val_accuracy: 0.7014\n",
            "Epoch 108/200\n",
            "709/709 [==============================] - 3s 4ms/step - loss: 1.3661 - accuracy: 0.9844 - val_loss: 17.5478 - val_accuracy: 0.7515\n",
            "Epoch 109/200\n",
            "709/709 [==============================] - 3s 4ms/step - loss: 1.4754 - accuracy: 0.9830 - val_loss: 19.0259 - val_accuracy: 0.7214\n",
            "Epoch 110/200\n",
            "709/709 [==============================] - 3s 4ms/step - loss: 1.2899 - accuracy: 0.9855 - val_loss: 18.6549 - val_accuracy: 0.7290\n",
            "Epoch 111/200\n",
            "709/709 [==============================] - 3s 4ms/step - loss: 1.4031 - accuracy: 0.9844 - val_loss: 19.1267 - val_accuracy: 0.7358\n",
            "Epoch 112/200\n",
            "709/709 [==============================] - 2s 4ms/step - loss: 1.2250 - accuracy: 0.9861 - val_loss: 17.2853 - val_accuracy: 0.7522\n",
            "Epoch 113/200\n",
            "709/709 [==============================] - 3s 4ms/step - loss: 1.3952 - accuracy: 0.9838 - val_loss: 17.3072 - val_accuracy: 0.7579\n",
            "Epoch 114/200\n",
            "709/709 [==============================] - 3s 4ms/step - loss: 1.4338 - accuracy: 0.9838 - val_loss: 19.5142 - val_accuracy: 0.7199\n",
            "Epoch 115/200\n",
            "709/709 [==============================] - 3s 4ms/step - loss: 1.2825 - accuracy: 0.9848 - val_loss: 18.8588 - val_accuracy: 0.7242\n",
            "Epoch 116/200\n",
            "709/709 [==============================] - 3s 4ms/step - loss: 1.2981 - accuracy: 0.9850 - val_loss: 16.1091 - val_accuracy: 0.7782\n",
            "Epoch 117/200\n",
            "709/709 [==============================] - 3s 4ms/step - loss: 1.4196 - accuracy: 0.9833 - val_loss: 21.4635 - val_accuracy: 0.6657\n",
            "Epoch 118/200\n",
            "709/709 [==============================] - 3s 4ms/step - loss: 1.5283 - accuracy: 0.9832 - val_loss: 18.1195 - val_accuracy: 0.7352\n",
            "Epoch 119/200\n",
            "709/709 [==============================] - 3s 4ms/step - loss: 1.2064 - accuracy: 0.9867 - val_loss: 17.2960 - val_accuracy: 0.7610\n",
            "Epoch 120/200\n",
            "709/709 [==============================] - 3s 4ms/step - loss: 1.2023 - accuracy: 0.9852 - val_loss: 16.9443 - val_accuracy: 0.7558\n",
            "Epoch 121/200\n",
            "709/709 [==============================] - 3s 4ms/step - loss: 1.3622 - accuracy: 0.9837 - val_loss: 16.3599 - val_accuracy: 0.7701\n",
            "Epoch 122/200\n",
            "709/709 [==============================] - 3s 4ms/step - loss: 1.4744 - accuracy: 0.9827 - val_loss: 18.6973 - val_accuracy: 0.7193\n",
            "Epoch 123/200\n",
            "709/709 [==============================] - 3s 4ms/step - loss: 1.2978 - accuracy: 0.9850 - val_loss: 19.1312 - val_accuracy: 0.7171\n",
            "Epoch 124/200\n",
            "709/709 [==============================] - 2s 4ms/step - loss: 1.2595 - accuracy: 0.9857 - val_loss: 18.6298 - val_accuracy: 0.7347\n",
            "Epoch 125/200\n",
            "709/709 [==============================] - 3s 4ms/step - loss: 1.1927 - accuracy: 0.9863 - val_loss: 19.6318 - val_accuracy: 0.7138\n",
            "Epoch 126/200\n",
            "709/709 [==============================] - 2s 4ms/step - loss: 1.2954 - accuracy: 0.9844 - val_loss: 17.5748 - val_accuracy: 0.7461\n",
            "Epoch 127/200\n",
            "709/709 [==============================] - 3s 4ms/step - loss: 1.3361 - accuracy: 0.9842 - val_loss: 18.8125 - val_accuracy: 0.7237\n",
            "Epoch 128/200\n",
            "709/709 [==============================] - 3s 4ms/step - loss: 1.3357 - accuracy: 0.9848 - val_loss: 18.2429 - val_accuracy: 0.7286\n",
            "Epoch 129/200\n",
            "709/709 [==============================] - 3s 4ms/step - loss: 1.2673 - accuracy: 0.9854 - val_loss: 18.9306 - val_accuracy: 0.7174\n",
            "Epoch 130/200\n",
            "709/709 [==============================] - 3s 4ms/step - loss: 1.3313 - accuracy: 0.9846 - val_loss: 18.9706 - val_accuracy: 0.7235\n",
            "Epoch 131/200\n",
            "709/709 [==============================] - 3s 4ms/step - loss: 1.2310 - accuracy: 0.9853 - val_loss: 17.3860 - val_accuracy: 0.7456\n",
            "Epoch 132/200\n",
            "709/709 [==============================] - 3s 4ms/step - loss: 1.2382 - accuracy: 0.9856 - val_loss: 18.8190 - val_accuracy: 0.7240\n",
            "Epoch 133/200\n",
            "709/709 [==============================] - 3s 4ms/step - loss: 1.3696 - accuracy: 0.9841 - val_loss: 19.5806 - val_accuracy: 0.7051\n",
            "Epoch 134/200\n",
            "709/709 [==============================] - 3s 4ms/step - loss: 1.3932 - accuracy: 0.9838 - val_loss: 18.6733 - val_accuracy: 0.7168\n",
            "Epoch 135/200\n",
            "709/709 [==============================] - 3s 4ms/step - loss: 1.4418 - accuracy: 0.9831 - val_loss: 17.1191 - val_accuracy: 0.7515\n",
            "Epoch 136/200\n",
            "709/709 [==============================] - 3s 4ms/step - loss: 1.2325 - accuracy: 0.9855 - val_loss: 17.3756 - val_accuracy: 0.7519\n",
            "Epoch 137/200\n",
            "709/709 [==============================] - 3s 4ms/step - loss: 1.1548 - accuracy: 0.9866 - val_loss: 18.5991 - val_accuracy: 0.7252\n",
            "Epoch 138/200\n",
            "709/709 [==============================] - 3s 4ms/step - loss: 1.2666 - accuracy: 0.9858 - val_loss: 16.5133 - val_accuracy: 0.7657\n",
            "Epoch 139/200\n",
            "709/709 [==============================] - 3s 4ms/step - loss: 1.3862 - accuracy: 0.9832 - val_loss: 15.7631 - val_accuracy: 0.7825\n",
            "Epoch 140/200\n",
            "709/709 [==============================] - 3s 4ms/step - loss: 1.2754 - accuracy: 0.9852 - val_loss: 16.5249 - val_accuracy: 0.7692\n",
            "Epoch 141/200\n",
            "709/709 [==============================] - 3s 4ms/step - loss: 1.3025 - accuracy: 0.9859 - val_loss: 19.0243 - val_accuracy: 0.7205\n",
            "Epoch 142/200\n",
            "709/709 [==============================] - 3s 4ms/step - loss: 1.1342 - accuracy: 0.9870 - val_loss: 17.6734 - val_accuracy: 0.7446\n",
            "Epoch 143/200\n",
            "709/709 [==============================] - 3s 4ms/step - loss: 1.2599 - accuracy: 0.9852 - val_loss: 18.9038 - val_accuracy: 0.7194\n",
            "Epoch 144/200\n",
            "709/709 [==============================] - 3s 4ms/step - loss: 1.3364 - accuracy: 0.9848 - val_loss: 17.8250 - val_accuracy: 0.7412\n",
            "Epoch 145/200\n",
            "709/709 [==============================] - 3s 4ms/step - loss: 1.1913 - accuracy: 0.9865 - val_loss: 18.0235 - val_accuracy: 0.7424\n",
            "Epoch 146/200\n",
            "709/709 [==============================] - 3s 4ms/step - loss: 1.1021 - accuracy: 0.9871 - val_loss: 19.8560 - val_accuracy: 0.7036\n",
            "Epoch 147/200\n",
            "709/709 [==============================] - 3s 4ms/step - loss: 1.2708 - accuracy: 0.9850 - val_loss: 18.4322 - val_accuracy: 0.7302\n",
            "Epoch 148/200\n",
            "709/709 [==============================] - 3s 4ms/step - loss: 1.2699 - accuracy: 0.9848 - val_loss: 16.6303 - val_accuracy: 0.7581\n",
            "Epoch 149/200\n",
            "709/709 [==============================] - 3s 4ms/step - loss: 1.2937 - accuracy: 0.9853 - val_loss: 15.8885 - val_accuracy: 0.7752\n",
            "Epoch 150/200\n",
            "709/709 [==============================] - 3s 4ms/step - loss: 1.3276 - accuracy: 0.9847 - val_loss: 20.5576 - val_accuracy: 0.6864\n",
            "Epoch 151/200\n",
            "709/709 [==============================] - 3s 4ms/step - loss: 1.1424 - accuracy: 0.9860 - val_loss: 16.4822 - val_accuracy: 0.7682\n",
            "Epoch 152/200\n",
            "709/709 [==============================] - 3s 4ms/step - loss: 1.2224 - accuracy: 0.9860 - val_loss: 21.2446 - val_accuracy: 0.6717\n",
            "Epoch 153/200\n",
            "709/709 [==============================] - 3s 4ms/step - loss: 1.2013 - accuracy: 0.9859 - val_loss: 21.2207 - val_accuracy: 0.6665\n",
            "Epoch 154/200\n",
            "709/709 [==============================] - 3s 4ms/step - loss: 1.4373 - accuracy: 0.9828 - val_loss: 17.6343 - val_accuracy: 0.7345\n",
            "Epoch 155/200\n",
            "709/709 [==============================] - 3s 4ms/step - loss: 1.2488 - accuracy: 0.9851 - val_loss: 20.6158 - val_accuracy: 0.6765\n",
            "Epoch 156/200\n",
            "709/709 [==============================] - 3s 4ms/step - loss: 1.3314 - accuracy: 0.9846 - val_loss: 20.2100 - val_accuracy: 0.6969\n",
            "Epoch 157/200\n",
            "709/709 [==============================] - 3s 4ms/step - loss: 1.1910 - accuracy: 0.9865 - val_loss: 21.2050 - val_accuracy: 0.6788\n",
            "Epoch 158/200\n",
            "709/709 [==============================] - 3s 4ms/step - loss: 1.0830 - accuracy: 0.9876 - val_loss: 16.0177 - val_accuracy: 0.7737\n",
            "Epoch 159/200\n",
            "709/709 [==============================] - 3s 4ms/step - loss: 1.1135 - accuracy: 0.9870 - val_loss: 16.9387 - val_accuracy: 0.7584\n",
            "Epoch 160/200\n",
            "709/709 [==============================] - 3s 4ms/step - loss: 1.3015 - accuracy: 0.9847 - val_loss: 18.3554 - val_accuracy: 0.7315\n",
            "Epoch 161/200\n",
            "709/709 [==============================] - 3s 4ms/step - loss: 1.3052 - accuracy: 0.9843 - val_loss: 20.9071 - val_accuracy: 0.6934\n",
            "Epoch 162/200\n",
            "709/709 [==============================] - 3s 4ms/step - loss: 1.2840 - accuracy: 0.9847 - val_loss: 18.2104 - val_accuracy: 0.7414\n",
            "Epoch 163/200\n",
            "709/709 [==============================] - 3s 4ms/step - loss: 1.2307 - accuracy: 0.9866 - val_loss: 18.0529 - val_accuracy: 0.7394\n",
            "Epoch 164/200\n",
            "709/709 [==============================] - 3s 4ms/step - loss: 1.2496 - accuracy: 0.9849 - val_loss: 17.8302 - val_accuracy: 0.7443\n",
            "Epoch 165/200\n",
            "709/709 [==============================] - 3s 4ms/step - loss: 1.0791 - accuracy: 0.9879 - val_loss: 17.1065 - val_accuracy: 0.7529\n",
            "Epoch 166/200\n",
            "709/709 [==============================] - 3s 4ms/step - loss: 1.2330 - accuracy: 0.9859 - val_loss: 18.7599 - val_accuracy: 0.7097\n",
            "Epoch 167/200\n",
            "709/709 [==============================] - 3s 4ms/step - loss: 1.2776 - accuracy: 0.9852 - val_loss: 18.5946 - val_accuracy: 0.7276\n",
            "Epoch 168/200\n",
            "709/709 [==============================] - 3s 4ms/step - loss: 1.1565 - accuracy: 0.9866 - val_loss: 19.8417 - val_accuracy: 0.7054\n",
            "Epoch 169/200\n",
            "709/709 [==============================] - 3s 4ms/step - loss: 1.2027 - accuracy: 0.9865 - val_loss: 19.8037 - val_accuracy: 0.7092\n",
            "Epoch 170/200\n",
            "709/709 [==============================] - 3s 4ms/step - loss: 1.1416 - accuracy: 0.9871 - val_loss: 19.5793 - val_accuracy: 0.7114\n",
            "Epoch 171/200\n",
            "709/709 [==============================] - 3s 4ms/step - loss: 1.2597 - accuracy: 0.9852 - val_loss: 18.0776 - val_accuracy: 0.7389\n",
            "Epoch 172/200\n",
            "709/709 [==============================] - 3s 4ms/step - loss: 1.1050 - accuracy: 0.9867 - val_loss: 20.2191 - val_accuracy: 0.7001\n",
            "Epoch 173/200\n",
            "709/709 [==============================] - 3s 4ms/step - loss: 1.2369 - accuracy: 0.9851 - val_loss: 18.2693 - val_accuracy: 0.7337\n",
            "Epoch 174/200\n",
            "709/709 [==============================] - 3s 4ms/step - loss: 1.2273 - accuracy: 0.9854 - val_loss: 16.6513 - val_accuracy: 0.7713\n",
            "Epoch 175/200\n",
            "709/709 [==============================] - 3s 4ms/step - loss: 1.1666 - accuracy: 0.9858 - val_loss: 17.2687 - val_accuracy: 0.7543\n",
            "Epoch 176/200\n",
            "709/709 [==============================] - 3s 4ms/step - loss: 1.0812 - accuracy: 0.9878 - val_loss: 17.1716 - val_accuracy: 0.7550\n",
            "Epoch 177/200\n",
            "709/709 [==============================] - 3s 4ms/step - loss: 1.0632 - accuracy: 0.9882 - val_loss: 17.2273 - val_accuracy: 0.7589\n",
            "Epoch 178/200\n",
            "709/709 [==============================] - 3s 4ms/step - loss: 1.2841 - accuracy: 0.9853 - val_loss: 17.9780 - val_accuracy: 0.7460\n",
            "Epoch 179/200\n",
            "709/709 [==============================] - 3s 4ms/step - loss: 1.2111 - accuracy: 0.9861 - val_loss: 16.6339 - val_accuracy: 0.7677\n",
            "Epoch 180/200\n",
            "709/709 [==============================] - 3s 4ms/step - loss: 1.2534 - accuracy: 0.9856 - val_loss: 16.8713 - val_accuracy: 0.7617\n",
            "Epoch 181/200\n",
            "709/709 [==============================] - 3s 4ms/step - loss: 1.2214 - accuracy: 0.9851 - val_loss: 19.8768 - val_accuracy: 0.7049\n",
            "Epoch 182/200\n",
            "709/709 [==============================] - 3s 4ms/step - loss: 1.1669 - accuracy: 0.9868 - val_loss: 19.7889 - val_accuracy: 0.7055\n",
            "Epoch 183/200\n",
            "709/709 [==============================] - 3s 4ms/step - loss: 0.9954 - accuracy: 0.9886 - val_loss: 17.9763 - val_accuracy: 0.7394\n",
            "Epoch 184/200\n",
            "709/709 [==============================] - 3s 4ms/step - loss: 1.2649 - accuracy: 0.9849 - val_loss: 19.9067 - val_accuracy: 0.7051\n",
            "Epoch 185/200\n",
            "709/709 [==============================] - 3s 4ms/step - loss: 1.1032 - accuracy: 0.9869 - val_loss: 17.6673 - val_accuracy: 0.7334\n",
            "Epoch 186/200\n",
            "709/709 [==============================] - 3s 4ms/step - loss: 1.0785 - accuracy: 0.9874 - val_loss: 18.8096 - val_accuracy: 0.7281\n",
            "Epoch 187/200\n",
            "709/709 [==============================] - 3s 4ms/step - loss: 1.1954 - accuracy: 0.9862 - val_loss: 19.8954 - val_accuracy: 0.7074\n",
            "Epoch 188/200\n",
            "709/709 [==============================] - 3s 4ms/step - loss: 1.0669 - accuracy: 0.9878 - val_loss: 19.3231 - val_accuracy: 0.7112\n",
            "Epoch 189/200\n",
            "709/709 [==============================] - 3s 4ms/step - loss: 1.0981 - accuracy: 0.9872 - val_loss: 20.4635 - val_accuracy: 0.6941\n",
            "Epoch 190/200\n",
            "709/709 [==============================] - 3s 4ms/step - loss: 1.0995 - accuracy: 0.9872 - val_loss: 19.6474 - val_accuracy: 0.7141\n",
            "Epoch 191/200\n",
            "709/709 [==============================] - 3s 4ms/step - loss: 1.1139 - accuracy: 0.9871 - val_loss: 19.0526 - val_accuracy: 0.7175\n",
            "Epoch 192/200\n",
            "709/709 [==============================] - 3s 4ms/step - loss: 1.1086 - accuracy: 0.9870 - val_loss: 16.8209 - val_accuracy: 0.7609\n",
            "Epoch 193/200\n",
            "709/709 [==============================] - 3s 4ms/step - loss: 1.2031 - accuracy: 0.9861 - val_loss: 17.9831 - val_accuracy: 0.7378\n",
            "Epoch 194/200\n",
            "709/709 [==============================] - 3s 4ms/step - loss: 1.2214 - accuracy: 0.9855 - val_loss: 18.8279 - val_accuracy: 0.7278\n",
            "Epoch 195/200\n",
            "709/709 [==============================] - 3s 4ms/step - loss: 1.2249 - accuracy: 0.9867 - val_loss: 19.8040 - val_accuracy: 0.7062\n",
            "Epoch 196/200\n",
            "709/709 [==============================] - 3s 4ms/step - loss: 1.1542 - accuracy: 0.9868 - val_loss: 18.7408 - val_accuracy: 0.7269\n",
            "Epoch 197/200\n",
            "709/709 [==============================] - 3s 4ms/step - loss: 1.1834 - accuracy: 0.9862 - val_loss: 19.6005 - val_accuracy: 0.7068\n",
            "Epoch 198/200\n",
            "709/709 [==============================] - 3s 4ms/step - loss: 1.1128 - accuracy: 0.9870 - val_loss: 20.4377 - val_accuracy: 0.6945\n",
            "Epoch 199/200\n",
            "709/709 [==============================] - 3s 4ms/step - loss: 1.1396 - accuracy: 0.9868 - val_loss: 17.8259 - val_accuracy: 0.7449\n",
            "Epoch 200/200\n",
            "709/709 [==============================] - 3s 4ms/step - loss: 1.1266 - accuracy: 0.9865 - val_loss: 19.1293 - val_accuracy: 0.7213\n"
          ]
        }
      ]
    },
    {
      "cell_type": "code",
      "source": [
        "Score = model.evaluate(x_test,y_test,verbose = 1)"
      ],
      "metadata": {
        "colab": {
          "base_uri": "https://localhost:8080/"
        },
        "id": "AsUGa2HEIn9x",
        "outputId": "f459b7ae-cbf0-4911-fe56-cfdc1b993519"
      },
      "execution_count": null,
      "outputs": [
        {
          "output_type": "stream",
          "name": "stdout",
          "text": [
            "1215/1215 [==============================] - 3s 2ms/step - loss: 19.1293 - accuracy: 0.7213\n"
          ]
        }
      ]
    },
    {
      "cell_type": "code",
      "source": [
        "plt.plot(history.history['accuracy'])\n",
        "plt.plot(history.history['val_accuracy'])\n",
        "plt.title('Model accuracy')\n",
        "plt.ylabel('accuracy')\n",
        "plt.xlabel('epoch')\n",
        "plt.legend(['Train','Validation'], loc ='center right')\n",
        "plt.show()"
      ],
      "metadata": {
        "colab": {
          "base_uri": "https://localhost:8080/",
          "height": 295
        },
        "id": "lYTu1At8ItaY",
        "outputId": "f8054fe3-073b-474c-cccf-28b728101c85"
      },
      "execution_count": null,
      "outputs": [
        {
          "output_type": "display_data",
          "data": {
            "text/plain": [
              "<Figure size 432x288 with 1 Axes>"
            ],
            "image/png": "[encoded data removed]"
          },
          "metadata": {
            "needs_background": "light"
          }
        }
      ]
    },
    {
      "cell_type": "code",
      "source": [
        "model.save('2ndDegreesRoboticArm.h5')"
      ],
      "metadata": {
        "id": "cyqTcin2JFM6"
      },
      "execution_count": null,
      "outputs": []
    },
    {
      "cell_type": "code",
      "source": [
        "y_pred = model.predict(x_train)"
      ],
      "metadata": {
        "id": "upgogxxAIvSh"
      },
      "execution_count": null,
      "outputs": []
    }
  ]
}