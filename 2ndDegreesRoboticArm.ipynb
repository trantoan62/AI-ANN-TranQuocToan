{
  "nbformat": 4,
  "nbformat_minor": 0,
  "metadata": {
    "colab": {
      "name": "2ndDegreesRoboticArm.ipynb",
      "provenance": [],
      "collapsed_sections": [],
      "authorship_tag": "ABX9TyOjE4HCJLUNY1373IO95kji",
      "include_colab_link": true
    },
    "kernelspec": {
      "name": "python3",
      "display_name": "Python 3"
    },
    "language_info": {
      "name": "python"
    },
    "accelerator": "GPU"
  },
  "cells": [
    {
      "cell_type": "markdown",
      "metadata": {
        "id": "view-in-github",
        "colab_type": "text"
      },
      "source": [
        "<a href=\"https://colab.research.google.com/github/trantoan62/AI-ANN-TranQuocToan/blob/main/2ndDegreesRoboticArm.ipynb\" target=\"_parent\"><img src=\"https://colab.research.google.com/assets/colab-badge.svg\" alt=\"Open In Colab\"/></a>"
      ]
    },
    {
      "cell_type": "code",
      "source": [
        "#l1 = 10, l2 = 40, l3 = 20"
      ],
      "metadata": {
        "id": "yikKiBdXBn3l"
      },
      "execution_count": null,
      "outputs": []
    },
    {
      "cell_type": "code",
      "execution_count": null,
      "metadata": {
        "id": "m-DxIimN_fI5"
      },
      "outputs": [],
      "source": [
        "# bài 4: robot 2 bậc tự do oxy như sgk l1 = 50, l2 = 40, tt1, tt2. -> theta 1, theta 2, px, py \n",
        "# px = l1.cos(tt1) +l2.cos(tt1+tt2)\n",
        "# py = l1.sin(tt1) +l2.sin(tt1+tt2)\n",
        "# tạo 1 data động học thuận xài hàm for -> nhờ training bằng kq động học thuận"
      ]
    },
    {
      "cell_type": "code",
      "source": [
        "import numpy as np\n",
        "import pandas as pd\n",
        "import matplotlib.pyplot as plt\n",
        "import seaborn as sns\n",
        "from sklearn.linear_model import LinearRegression"
      ],
      "metadata": {
        "id": "IjYxa58KBrBp"
      },
      "execution_count": 30,
      "outputs": []
    },
    {
      "cell_type": "code",
      "source": [
        "from tensorflow.keras.utils import to_categorical\n",
        "from keras.models import Sequential\n",
        "from keras.layers import Dense,Activation,Dropout\n",
        "from tensorflow.keras.optimizers import RMSprop\n",
        "from keras.callbacks import EarlyStopping\n",
        "from sklearn.model_selection import train_test_split\n",
        "from tensorflow import keras"
      ],
      "metadata": {
        "id": "wwtqUuA9EXKy"
      },
      "execution_count": 31,
      "outputs": []
    },
    {
      "cell_type": "code",
      "source": [
        "l1 = 10\n",
        "l2 = 40\n",
        "px = []\n",
        "py= []\n",
        "tt1 =[]\n",
        "tt2 =[]"
      ],
      "metadata": {
        "id": "2A4Ns6cZEAVj"
      },
      "execution_count": 32,
      "outputs": []
    },
    {
      "cell_type": "code",
      "source": [
        "for i in np.arange(0, 360, 1):\n",
        "    for j in np.arange(0, 360, 1):\n",
        "      x = l1*np.cos(np.radians(i)) + l2*np.cos(np.radians(i+j))\n",
        "      y = l1*np.sin(np.radians(i)) + l2*np.sin(np.radians(i+j))\n",
        "      px.append(x)\n",
        "      py.append(y)\n",
        "      tt1.append(i)\n",
        "      tt2.append(j)"
      ],
      "metadata": {
        "id": "MuzAQU6tE0o3"
      },
      "execution_count": 33,
      "outputs": []
    },
    {
      "cell_type": "code",
      "source": [
        "Px = np.array([px])\n",
        "Py = np.array([py])\n",
        "Tt1= np.array([tt1])\n",
        "Tt2 = np.array([tt2])"
      ],
      "metadata": {
        "id": "gOna2ZnLFq4s"
      },
      "execution_count": 34,
      "outputs": []
    },
    {
      "cell_type": "code",
      "source": [
        "Tt1 = Tt1.astype('float32')\n",
        "Tt2 = Tt2.astype('float32')"
      ],
      "metadata": {
        "id": "Xw5xTof9D-sa"
      },
      "execution_count": 35,
      "outputs": []
    },
    {
      "cell_type": "code",
      "source": [
        "Tt1 /= 360\n",
        "Tt2 /= 360"
      ],
      "metadata": {
        "id": "kBPrDyKxDxNs"
      },
      "execution_count": 36,
      "outputs": []
    },
    {
      "cell_type": "code",
      "source": [
        "result = np.concatenate((Tt1.T, Tt2.T),axis =1)\n",
        "train = np.concatenate((Px.T, Py.T),axis =1)\n",
        "result.shape"
      ],
      "metadata": {
        "colab": {
          "base_uri": "https://localhost:8080/"
        },
        "id": "3F7_r4OUGrSM",
        "outputId": "d209014f-4c23-4357-ffdb-72a2a4845b4a"
      },
      "execution_count": 37,
      "outputs": [
        {
          "output_type": "execute_result",
          "data": {
            "text/plain": [
              "(129600, 2)"
            ]
          },
          "metadata": {},
          "execution_count": 37
        }
      ]
    },
    {
      "cell_type": "code",
      "source": [
        "x_train = result[0:90720,:]\n",
        "y_train = train[0:90720,:]\n",
        "x_test = result[90720:129600,:]\n",
        "y_test = train[90720:129600,:]"
      ],
      "metadata": {
        "id": "c9LsNh0XHGvH"
      },
      "execution_count": 38,
      "outputs": []
    },
    {
      "cell_type": "code",
      "source": [
        "model=Sequential()\n",
        "model.add(Dense(512, activation='relu', input_shape=(2,)))\n",
        "model.add(Dense(512, activation='relu'))\n",
        "model.add(Dense(2, activation='linear'))\n",
        "model.summary()"
      ],
      "metadata": {
        "colab": {
          "base_uri": "https://localhost:8080/"
        },
        "id": "ZKGb6er7HiZB",
        "outputId": "1c4c53e3-996c-4471-e677-43b8087d69fb"
      },
      "execution_count": 39,
      "outputs": [
        {
          "output_type": "stream",
          "name": "stdout",
          "text": [
            "Model: \"sequential_1\"\n",
            "_________________________________________________________________\n",
            " Layer (type)                Output Shape              Param #   \n",
            "=================================================================\n",
            " dense_3 (Dense)             (None, 512)               1536      \n",
            "                                                                 \n",
            " dense_4 (Dense)             (None, 512)               262656    \n",
            "                                                                 \n",
            " dense_5 (Dense)             (None, 2)                 1026      \n",
            "                                                                 \n",
            "=================================================================\n",
            "Total params: 265,218\n",
            "Trainable params: 265,218\n",
            "Non-trainable params: 0\n",
            "_________________________________________________________________\n"
          ]
        }
      ]
    },
    {
      "cell_type": "code",
      "source": [
        "model.compile(loss = ['mae'], \n",
        "              optimizer = 'Adam', \n",
        "              metrics = ['accuracy'])"
      ],
      "metadata": {
        "id": "w-4f_UNpH4ej"
      },
      "execution_count": 40,
      "outputs": []
    },
    {
      "cell_type": "code",
      "source": [
        "history = model.fit(x_train, y_train, batch_size=128, epochs=50, verbose=1, validation_data=(x_test,y_test))"
      ],
      "metadata": {
        "colab": {
          "base_uri": "https://localhost:8080/"
        },
        "id": "DEX77HptIYEn",
        "outputId": "70cbd759-5c67-4b09-e2fd-d2d17b842108"
      },
      "execution_count": 42,
      "outputs": [
        {
          "output_type": "stream",
          "name": "stdout",
          "text": [
            "Epoch 1/50\n",
            "709/709 [==============================] - 8s 11ms/step - loss: 0.4162 - accuracy: 0.9942 - val_loss: 11.2612 - val_accuracy: 0.9222\n",
            "Epoch 2/50\n",
            "709/709 [==============================] - 7s 10ms/step - loss: 0.3756 - accuracy: 0.9956 - val_loss: 10.6547 - val_accuracy: 0.9270\n",
            "Epoch 3/50\n",
            "709/709 [==============================] - 8s 11ms/step - loss: 0.3548 - accuracy: 0.9965 - val_loss: 9.9841 - val_accuracy: 0.9301\n",
            "Epoch 4/50\n",
            "709/709 [==============================] - 8s 11ms/step - loss: 0.3586 - accuracy: 0.9971 - val_loss: 9.4252 - val_accuracy: 0.9401\n",
            "Epoch 5/50\n",
            "709/709 [==============================] - 9s 12ms/step - loss: 0.3273 - accuracy: 0.9972 - val_loss: 9.0423 - val_accuracy: 0.9380\n",
            "Epoch 6/50\n",
            "709/709 [==============================] - 8s 11ms/step - loss: 0.3261 - accuracy: 0.9972 - val_loss: 8.7919 - val_accuracy: 0.9414\n",
            "Epoch 7/50\n",
            "709/709 [==============================] - 8s 11ms/step - loss: 0.2896 - accuracy: 0.9976 - val_loss: 8.3995 - val_accuracy: 0.9408\n",
            "Epoch 8/50\n",
            "709/709 [==============================] - 7s 11ms/step - loss: 0.3113 - accuracy: 0.9974 - val_loss: 7.9601 - val_accuracy: 0.9372\n",
            "Epoch 9/50\n",
            "709/709 [==============================] - 10s 14ms/step - loss: 0.3108 - accuracy: 0.9975 - val_loss: 7.9791 - val_accuracy: 0.9382\n",
            "Epoch 10/50\n",
            "709/709 [==============================] - 8s 11ms/step - loss: 0.2844 - accuracy: 0.9978 - val_loss: 7.5198 - val_accuracy: 0.9440\n",
            "Epoch 11/50\n",
            "709/709 [==============================] - 7s 10ms/step - loss: 0.2796 - accuracy: 0.9973 - val_loss: 7.5479 - val_accuracy: 0.9400\n",
            "Epoch 12/50\n",
            "709/709 [==============================] - 7s 10ms/step - loss: 0.2903 - accuracy: 0.9975 - val_loss: 7.4311 - val_accuracy: 0.9383\n",
            "Epoch 13/50\n",
            "709/709 [==============================] - 7s 10ms/step - loss: 0.2874 - accuracy: 0.9976 - val_loss: 7.2119 - val_accuracy: 0.9471\n",
            "Epoch 14/50\n",
            "709/709 [==============================] - 8s 11ms/step - loss: 0.2744 - accuracy: 0.9974 - val_loss: 7.1356 - val_accuracy: 0.9416\n",
            "Epoch 15/50\n",
            "709/709 [==============================] - 8s 11ms/step - loss: 0.2667 - accuracy: 0.9975 - val_loss: 6.9827 - val_accuracy: 0.9469\n",
            "Epoch 16/50\n",
            "709/709 [==============================] - 8s 11ms/step - loss: 0.2903 - accuracy: 0.9974 - val_loss: 7.2316 - val_accuracy: 0.9428\n",
            "Epoch 17/50\n",
            "709/709 [==============================] - 8s 11ms/step - loss: 0.2685 - accuracy: 0.9978 - val_loss: 7.1147 - val_accuracy: 0.9442\n",
            "Epoch 18/50\n",
            "709/709 [==============================] - 7s 10ms/step - loss: 0.2483 - accuracy: 0.9978 - val_loss: 7.0414 - val_accuracy: 0.9458\n",
            "Epoch 19/50\n",
            "709/709 [==============================] - 7s 10ms/step - loss: 0.2510 - accuracy: 0.9978 - val_loss: 6.8760 - val_accuracy: 0.9428\n",
            "Epoch 20/50\n",
            "709/709 [==============================] - 8s 11ms/step - loss: 0.2702 - accuracy: 0.9977 - val_loss: 6.6295 - val_accuracy: 0.9486\n",
            "Epoch 21/50\n",
            "709/709 [==============================] - 7s 10ms/step - loss: 0.2458 - accuracy: 0.9978 - val_loss: 6.6125 - val_accuracy: 0.9438\n",
            "Epoch 22/50\n",
            "709/709 [==============================] - 7s 10ms/step - loss: 0.2445 - accuracy: 0.9980 - val_loss: 6.8588 - val_accuracy: 0.9469\n",
            "Epoch 23/50\n",
            "709/709 [==============================] - 8s 11ms/step - loss: 0.2710 - accuracy: 0.9977 - val_loss: 6.6899 - val_accuracy: 0.9463\n",
            "Epoch 24/50\n",
            "709/709 [==============================] - 8s 11ms/step - loss: 0.2395 - accuracy: 0.9979 - val_loss: 6.7048 - val_accuracy: 0.9481\n",
            "Epoch 25/50\n",
            "709/709 [==============================] - 8s 11ms/step - loss: 0.2361 - accuracy: 0.9980 - val_loss: 6.5736 - val_accuracy: 0.9452\n",
            "Epoch 26/50\n",
            "709/709 [==============================] - 8s 11ms/step - loss: 0.2709 - accuracy: 0.9979 - val_loss: 6.5535 - val_accuracy: 0.9496\n",
            "Epoch 27/50\n",
            "709/709 [==============================] - 7s 10ms/step - loss: 0.2668 - accuracy: 0.9978 - val_loss: 6.4675 - val_accuracy: 0.9476\n",
            "Epoch 28/50\n",
            "709/709 [==============================] - 8s 11ms/step - loss: 0.2353 - accuracy: 0.9978 - val_loss: 6.3987 - val_accuracy: 0.9447\n",
            "Epoch 29/50\n",
            "709/709 [==============================] - 8s 11ms/step - loss: 0.2542 - accuracy: 0.9980 - val_loss: 6.4808 - val_accuracy: 0.9464\n",
            "Epoch 30/50\n",
            "709/709 [==============================] - 8s 11ms/step - loss: 0.2361 - accuracy: 0.9978 - val_loss: 6.6138 - val_accuracy: 0.9466\n",
            "Epoch 31/50\n",
            "709/709 [==============================] - 7s 10ms/step - loss: 0.2259 - accuracy: 0.9981 - val_loss: 6.2684 - val_accuracy: 0.9501\n",
            "Epoch 32/50\n",
            "709/709 [==============================] - 8s 11ms/step - loss: 0.2445 - accuracy: 0.9981 - val_loss: 6.2511 - val_accuracy: 0.9447\n",
            "Epoch 33/50\n",
            "709/709 [==============================] - 7s 10ms/step - loss: 0.2197 - accuracy: 0.9982 - val_loss: 6.5031 - val_accuracy: 0.9450\n",
            "Epoch 34/50\n",
            "709/709 [==============================] - 7s 10ms/step - loss: 0.2366 - accuracy: 0.9978 - val_loss: 6.3567 - val_accuracy: 0.9460\n",
            "Epoch 35/50\n",
            "709/709 [==============================] - 7s 10ms/step - loss: 0.2220 - accuracy: 0.9982 - val_loss: 6.2728 - val_accuracy: 0.9480\n",
            "Epoch 36/50\n",
            "709/709 [==============================] - 7s 10ms/step - loss: 0.2426 - accuracy: 0.9980 - val_loss: 5.9329 - val_accuracy: 0.9498\n",
            "Epoch 37/50\n",
            "709/709 [==============================] - 8s 11ms/step - loss: 0.2156 - accuracy: 0.9981 - val_loss: 6.3919 - val_accuracy: 0.9479\n",
            "Epoch 38/50\n",
            "709/709 [==============================] - 8s 11ms/step - loss: 0.2317 - accuracy: 0.9979 - val_loss: 6.2204 - val_accuracy: 0.9447\n",
            "Epoch 39/50\n",
            "709/709 [==============================] - 8s 11ms/step - loss: 0.2265 - accuracy: 0.9980 - val_loss: 6.2314 - val_accuracy: 0.9472\n",
            "Epoch 40/50\n",
            "709/709 [==============================] - 7s 10ms/step - loss: 0.2161 - accuracy: 0.9982 - val_loss: 6.2258 - val_accuracy: 0.9460\n",
            "Epoch 41/50\n",
            "709/709 [==============================] - 7s 10ms/step - loss: 0.1993 - accuracy: 0.9983 - val_loss: 6.5085 - val_accuracy: 0.9414\n",
            "Epoch 42/50\n",
            "709/709 [==============================] - 7s 11ms/step - loss: 0.2204 - accuracy: 0.9980 - val_loss: 6.4679 - val_accuracy: 0.9462\n",
            "Epoch 43/50\n",
            "709/709 [==============================] - 7s 10ms/step - loss: 0.2052 - accuracy: 0.9980 - val_loss: 5.9804 - val_accuracy: 0.9479\n",
            "Epoch 44/50\n",
            "709/709 [==============================] - 7s 10ms/step - loss: 0.2093 - accuracy: 0.9982 - val_loss: 6.3351 - val_accuracy: 0.9464\n",
            "Epoch 45/50\n",
            "709/709 [==============================] - 7s 10ms/step - loss: 0.2093 - accuracy: 0.9982 - val_loss: 6.4914 - val_accuracy: 0.9424\n",
            "Epoch 46/50\n",
            "709/709 [==============================] - 8s 11ms/step - loss: 0.2229 - accuracy: 0.9980 - val_loss: 6.4193 - val_accuracy: 0.9485\n",
            "Epoch 47/50\n",
            "709/709 [==============================] - 7s 10ms/step - loss: 0.2067 - accuracy: 0.9982 - val_loss: 6.0187 - val_accuracy: 0.9467\n",
            "Epoch 48/50\n",
            "709/709 [==============================] - 7s 10ms/step - loss: 0.2094 - accuracy: 0.9981 - val_loss: 6.1848 - val_accuracy: 0.9468\n",
            "Epoch 49/50\n",
            "709/709 [==============================] - 7s 10ms/step - loss: 0.1991 - accuracy: 0.9982 - val_loss: 6.1670 - val_accuracy: 0.9456\n",
            "Epoch 50/50\n",
            "709/709 [==============================] - 8s 11ms/step - loss: 0.2009 - accuracy: 0.9981 - val_loss: 6.4274 - val_accuracy: 0.9421\n"
          ]
        }
      ]
    },
    {
      "cell_type": "code",
      "source": [
        "Score = model.evaluate(x_test,y_test,verbose = 1)"
      ],
      "metadata": {
        "colab": {
          "base_uri": "https://localhost:8080/"
        },
        "id": "AsUGa2HEIn9x",
        "outputId": "a2777278-c330-4364-cf74-6731f45280ac"
      },
      "execution_count": 43,
      "outputs": [
        {
          "output_type": "stream",
          "name": "stdout",
          "text": [
            "1215/1215 [==============================] - 4s 3ms/step - loss: 6.4274 - accuracy: 0.9421\n"
          ]
        }
      ]
    },
    {
      "cell_type": "code",
      "source": [
        "plt.plot(history.history['accuracy'])\n",
        "plt.plot(history.history['val_accuracy'])\n",
        "plt.title('Model accuracy')\n",
        "plt.ylabel('accuracy')\n",
        "plt.xlabel('epoch')\n",
        "plt.legend(['Train','Validation'], loc ='center right')\n",
        "plt.show()"
      ],
      "metadata": {
        "colab": {
          "base_uri": "https://localhost:8080/",
          "height": 295
        },
        "id": "lYTu1At8ItaY",
        "outputId": "e9dc1a83-3bda-4d31-c064-89964f5aa4dc"
      },
      "execution_count": 44,
      "outputs": [
        {
          "output_type": "display_data",
          "data": {
            "text/plain": [
              "<Figure size 432x288 with 1 Axes>"
            ],
            "image/png": "[encoded data removed]"
          },
          "metadata": {
            "needs_background": "light"
          }
        }
      ]
    },
    {
      "cell_type": "code",
      "source": [
        "model.save('2ndDegreesRoboticArm.h5')"
      ],
      "metadata": {
        "id": "cyqTcin2JFM6"
      },
      "execution_count": 45,
      "outputs": []
    },
    {
      "cell_type": "code",
      "source": [
        "y_pred = model.predict(x_train)"
      ],
      "metadata": {
        "id": "upgogxxAIvSh"
      },
      "execution_count": 46,
      "outputs": []
    }
  ]
}